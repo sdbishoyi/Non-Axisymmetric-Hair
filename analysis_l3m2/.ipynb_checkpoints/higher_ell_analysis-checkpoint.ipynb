{
 "cells": [
  {
   "cell_type": "code",
   "execution_count": null,
   "id": "be0cc33a-d897-4480-b19c-fc8c19bdcef2",
   "metadata": {},
   "outputs": [],
   "source": []
  }
 ],
 "metadata": {
  "kernelspec": {
   "display_name": "MATLAB Kernel [conda env:jupyterlab-matlab] *",
   "language": "matlab",
   "name": "conda-env-jupyterlab-matlab-jupyter_matlab_kernel"
  },
  "language_info": {
   "file_extension": ".m",
   "mimetype": "text/x-matlab",
   "name": "matlab"
  }
 },
 "nbformat": 4,
 "nbformat_minor": 5
}
