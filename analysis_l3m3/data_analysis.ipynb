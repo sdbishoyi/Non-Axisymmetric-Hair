{
 "cells": [
  {
   "cell_type": "markdown",
   "id": "f73f4501-ab9b-4dae-84c2-1c0ed4c1b835",
   "metadata": {},
   "source": [
    "We are only working with $l=m=3$ mode in the calculations below. The field and its derivative have been calculated on the horizon.\n",
    "\n",
    "The **_hi** in the cells below stands for higher resolution data. General tip would be to include some text/intructions (1 or 2 lines) in every cell about what is being calculated."
   ]
  },
  {
   "cell_type": "markdown",
   "id": "a0b764af-42b3-4fcf-b79e-08b158c5d7da",
   "metadata": {},
   "source": [
    "# Gaussian with center 1.1"
   ]
  },
  {
   "cell_type": "markdown",
   "id": "16327cda-b3d0-4945-9b82-741f8c1f2575",
   "metadata": {},
   "source": [
    "## Loading and extracting data"
   ]
  },
  {
   "cell_type": "code",
   "execution_count": 1,
   "id": "0e0690f4-67ba-47c1-9576-94bb0065145c",
   "metadata": {},
   "outputs": [],
   "source": [
    "addpath('phd_work/projects/non_axisymmetric_hair/data_l3m3/loc11/TimeDAT')\n",
    "\n",
    "infield_data = load('Psi0_0.dat');\n",
    "der_infield_data = load('Psi0_1.dat');\n",
    "der2_infield_data = load('Psi0_2.dat');\n",
    "outfield_data = load('Psi4_0.dat');\n",
    "der_outfield_data = load('Psi4_1.dat');\n",
    "der2_outfield_data = load('Psi4_2.dat');\n",
    "\n",
    "infield_data_hi = load('Psi0_0hi.dat');\n",
    "der_infield_data_hi = load('Psi0_1hi.dat');\n",
    "der2_infield_data_hi = load('Psi0_2hi.dat');\n",
    "\n",
    "time_infield = infield_data(:,1);\n",
    "real_infield = infield_data(:,2); % extracting 2nd and 3rd columns for l=3\n",
    "imag_infield = infield_data(:,3);\n",
    "real_der_infield = der_infield_data(:,2);\n",
    "imag_der_infield = der_infield_data(:,3);\n",
    "real_der2_infield = der2_infield_data(:,2);\n",
    "imag_der2_infield = der2_infield_data(:,3);\n",
    "\n",
    "time_infield_hi = infield_data_hi(:,1);\n",
    "real_infield_hi = infield_data_hi(:,2);\n",
    "imag_infield_hi = infield_data_hi(:,3);\n",
    "real_der_infield_hi = der_infield_data_hi(:,2);\n",
    "imag_der_infield_hi = der_infield_data_hi(:,3);\n",
    "real_der2_infield_hi = der2_infield_data_hi(:,2);\n",
    "imag_der2_infield_hi = der2_infield_data_hi(:,3);\n",
    "\n",
    "time_outfield = outfield_data(:,1);\n",
    "real_outfield = outfield_data(:,2);\n",
    "imag_outfield = outfield_data(:,3);\n",
    "real_der_outfield = der_outfield_data(:,2);\n",
    "imag_der_outfield = der_outfield_data(:,3);\n",
    "real_der2_outfield = der2_outfield_data(:,2);\n",
    "imag_der2_outfield = der2_outfield_data(:,3);\n",
    "\n",
    "rmpath('phd_work/projects/non_axisymmetric_hair/data_l3m3/loc11/TimeDAT')"
   ]
  },
  {
   "cell_type": "code",
   "execution_count": 2,
   "id": "4ea30bae-b241-4fb9-90fd-944276badd49",
   "metadata": {
    "tags": []
   },
   "outputs": [
    {
     "data": {
      "text/html": [
       "<html><body><pre>ans = 50x1 double\n",
       "         0\n",
       "    0.0689\n",
       "    0.1377\n",
       "    0.2066\n",
       "    0.2754\n",
       "    0.3443\n",
       "    0.4131\n",
       "    0.4820\n",
       "    0.5508\n",
       "    0.6197\n",
       "...</pre></body></html>"
      ],
      "text/plain": [
       "ans = 50x1 double\n",
       "         0\n",
       "    0.0689\n",
       "    0.1377\n",
       "    0.2066\n",
       "    0.2754\n",
       "    0.3443\n",
       "    0.4131\n",
       "    0.4820\n",
       "    0.5508\n",
       "    0.6197\n",
       "..."
      ]
     },
     "execution_count": 2,
     "metadata": {},
     "output_type": "execute_result"
    },
    {
     "data": {
      "text/html": [
       "<html><body><pre>ans = 50x1 double\n",
       "         0\n",
       "    0.0344\n",
       "    0.0689\n",
       "    0.1033\n",
       "    0.1377\n",
       "    0.1721\n",
       "    0.2066\n",
       "    0.2410\n",
       "    0.2754\n",
       "    0.3098\n",
       "...</pre></body></html>"
      ],
      "text/plain": [
       "ans = 50x1 double\n",
       "         0\n",
       "    0.0344\n",
       "    0.0689\n",
       "    0.1033\n",
       "    0.1377\n",
       "    0.1721\n",
       "    0.2066\n",
       "    0.2410\n",
       "    0.2754\n",
       "    0.3098\n",
       "..."
      ]
     },
     "execution_count": 2,
     "metadata": {},
     "output_type": "execute_result"
    }
   ],
   "source": [
    "%test to verify that data is loaded correctly\n",
    "%plot(time_infield,real_infield)\n",
    "%length(real_outfield)\n",
    "\n",
    "time_infield(1:50)\n",
    "time_infield_hi(1:50)"
   ]
  },
  {
   "cell_type": "markdown",
   "id": "f5bfe0a1-0adf-4f7b-9590-668da9ddff6a",
   "metadata": {},
   "source": [
    "## Defining fields and their derivatives"
   ]
  },
  {
   "cell_type": "code",
   "execution_count": 3,
   "id": "1b86c194-6e12-4d7e-91d2-9ae2cff89008",
   "metadata": {},
   "outputs": [],
   "source": [
    "Psi0 = real_infield + 1i.*imag_infield;\n",
    "Psi4 = real_outfield + 1i.*imag_outfield;\n",
    "\n",
    "Psi0_hi = real_infield_hi + 1i.*imag_infield_hi;\n",
    "\n",
    "der_Psi0 = real_der_infield + 1i.*imag_der_infield;\n",
    "der_Psi4 = real_der_outfield + 1i.*imag_der_outfield;\n",
    "\n",
    "der_Psi0_hi = real_der_infield_hi + 1i.*imag_der_infield_hi;\n",
    "\n",
    "der2_Psi0 = real_der2_infield + 1i.*imag_der2_infield;\n",
    "der2_Psi4 = real_der2_outfield + 1i.*imag_der2_outfield;\n",
    "\n",
    "der2_Psi0_hi = real_der2_infield_hi + 1i.*imag_der2_infield_hi;\n",
    "\n",
    "bbscalar_11 = Psi0.*Psi4;\n",
    "bbscalar_11_hi = Psi0_hi(1:2:end).*Psi4;\n",
    "hair = abs(Psi0.*der_Psi4 + Psi4.*der_Psi0);\n",
    "\n",
    "hair_hi = abs(Psi0_hi(1:2:end).*der_Psi4 + Psi4.*der_Psi0_hi(1:2:end));\n",
    "%tder_hair_11 = (hair_11(2:end) - hair_11(1:end-1))./(time_infield(2:end) - time_infield(1:end-1));"
   ]
  },
  {
   "cell_type": "code",
   "execution_count": null,
   "id": "d6e77f88-c451-40c8-92c5-58271abaaff2",
   "metadata": {},
   "outputs": [],
   "source": [
    "length(Psi0_hi)\n",
    "length(Psi0_hi(1:2:end))\n",
    "length(Psi4)"
   ]
  },
  {
   "cell_type": "markdown",
   "id": "6f1510dd-60bb-45cb-876f-219d23a775c7",
   "metadata": {},
   "source": [
    "## Finding the LPI of the fields and their derivatives"
   ]
  },
  {
   "cell_type": "code",
   "execution_count": 4,
   "id": "8ccbd9ad-137e-4b82-977d-55a2c92cddcf",
   "metadata": {},
   "outputs": [
    {
     "data": {
      "image/png": "[encoded data removed]"
     },
     "execution_count": 4,
     "metadata": {},
     "output_type": "execute_result"
    }
   ],
   "source": [
    "LPI_Psi0 = (log10(abs(Psi0(2:end))) - log10(abs(Psi0(1:end-1))))./(log10(time_infield(2:end)) - log10(time_infield(1:end-1)));\n",
    "LPI_Psi0_hi = (log10(abs(Psi0_hi(2:end))) - log10(abs(Psi0_hi(1:end-1))))./(log10(time_infield_hi(2:end)) - log10(time_infield_hi(1:end-1)));\n",
    "\n",
    "hold on\n",
    "plot(log10(time_infield_hi(2:end)),LPI_Psi0_hi,'-r')\n",
    "plot(log10(time_infield(2:end)),LPI_Psi0,'-b')\n",
    "xlim([2,3.4])\n",
    "ylim([-6,0])\n",
    "xlabel('time')\n",
    "%ylabel('|\\partial_{r}(\\psi_{0}\\psi_{4})|')\n",
    "hold off"
   ]
  },
  {
   "cell_type": "code",
   "execution_count": 5,
   "id": "e588e413-b85d-41f0-9520-185b91c375f6",
   "metadata": {},
   "outputs": [
    {
     "data": {
      "image/png": "[encoded data removed]"
     },
     "execution_count": 5,
     "metadata": {},
     "output_type": "execute_result"
    }
   ],
   "source": [
    "plot(log10(time_infield),log10(abs(Psi0)),'-b')\n",
    "hold on\n",
    "plot(log10(time_infield_hi),log10(abs(Psi0_hi)),'-r')\n",
    "plot(log10(time_infield_hi),-2.5*log10(time_infield_hi),'-k')\n",
    "hold off"
   ]
  },
  {
   "cell_type": "code",
   "execution_count": 6,
   "id": "f60a50d4-72c2-441c-a090-e4136cc78fe1",
   "metadata": {},
   "outputs": [
    {
     "data": {
      "image/png": "[encoded data removed]"
     },
     "execution_count": 6,
     "metadata": {},
     "output_type": "execute_result"
    }
   ],
   "source": [
    "LPI_Psi4 = (log10(abs(Psi4(2:end))) - log10(abs(Psi4(1:end-1))))./(log10(time_infield(2:end)) - log10(time_infield(1:end-1)));\n",
    "plot(log10(time_outfield(2:end)),LPI_Psi4)\n",
    "xlim([2,3.4])\n",
    "xlabel('time')"
   ]
  },
  {
   "cell_type": "code",
   "execution_count": 7,
   "id": "589e006f-6c05-4b65-a47c-fa0714ee3b40",
   "metadata": {},
   "outputs": [
    {
     "data": {
      "image/png": "[encoded data removed]"
     },
     "execution_count": 7,
     "metadata": {},
     "output_type": "execute_result"
    }
   ],
   "source": [
    "plot(log10(time_outfield),log10(abs(Psi4)))\n",
    "%xlim([3,3.4])\n",
    "hold on\n",
    "plot(log10(time_outfield),1.5*log10(time_outfield))\n",
    "%xlabel('time')\n",
    "%ylabel('|\\xi_{3,3}''|')\n",
    "hold off"
   ]
  },
  {
   "cell_type": "code",
   "execution_count": 8,
   "id": "676ff02e-08b8-4e42-a32a-ca7978bfe9ec",
   "metadata": {},
   "outputs": [
    {
     "data": {
      "image/png": "[encoded data removed]"
     },
     "execution_count": 8,
     "metadata": {},
     "output_type": "execute_result"
    }
   ],
   "source": [
    "LPI_der_Psi0 = (log10(abs(der_Psi0(2:end))) - log10(abs(der_Psi0(1:end-1))))./(log10(time_infield(2:end)) - log10(time_infield(1:end-1)));\n",
    "LPI_der_Psi0_hi = (log10(abs(der_Psi0_hi(2:end))) - log10(abs(der_Psi0_hi(1:end-1))))./(log10(time_infield_hi(2:end)) - log10(time_infield_hi(1:end-1)));\n",
    "plot(log10(time_infield_hi(2:end)),LPI_der_Psi0_hi,'-r')\n",
    "hold on\n",
    "plot(log10(time_infield(2:end)),LPI_der_Psi0,'-b')\n",
    "xlim([1.5,3.5])\n",
    "hold off"
   ]
  },
  {
   "cell_type": "code",
   "execution_count": null,
   "id": "e6f2c7b9-959d-4f79-b1f5-58320d036daa",
   "metadata": {},
   "outputs": [],
   "source": [
    "%hold on\n",
    "LPI_der_Psi4 = (log10(abs(der_Psi4(2:end))) - log10(abs(der_Psi4(1:end-1))))./(log10(time_infield(2:end)) - log10(time_infield(1:end-1)));\n",
    "plot(log10(time_outfield(2:end)),LPI_der_Psi4)\n",
    "xlim([1.5,3.5])\n",
    "%plot(log10(time_infield),log10(abs(der_Psi0)))\n",
    "%ylim([30,50])\n",
    "xlabel('time')\n",
    "%ylabel('|\\partial_{r}(\\psi_{0}\\psi_{4})|')\n",
    "%hold off"
   ]
  },
  {
   "cell_type": "code",
   "execution_count": null,
   "id": "8b4a38ca-610e-4369-9a95-c8ecfc1d81eb",
   "metadata": {
    "jupyter": {
     "source_hidden": true
    },
    "tags": []
   },
   "outputs": [],
   "source": [
    "%hold on\n",
    "LPI_der2_Psi0 = (log10(abs(der2_Psi0(2:end))) - log10(abs(der2_Psi0(1:end-1))))./(log10(time_infield(2:end)) - log10(time_infield(1:end-1)));\n",
    "plot(log10(time_infield(2:end)),LPI_der2_Psi0)\n",
    "xlim([1.5,3.5])\n",
    "%plot(log10(time_infield),log10(abs(der_Psi0)))\n",
    "%ylim([30,50])\n",
    "%xlabel('time')\n",
    "%ylabel('|\\partial_{r}(\\psi_{0}\\psi_{4})|')\n",
    "%hold off\n",
    "%plot(log10(time_infield),log10(abs(der_Psi4)))\n",
    "%ylim([30,50])\n",
    "xlabel('time')\n",
    "%ylabel('|\\partial_{r}(\\psi_{0}\\psi_{4})|')\n",
    "%hold off"
   ]
  },
  {
   "cell_type": "code",
   "execution_count": null,
   "id": "120e209e-7d37-4753-94ce-4a260b9233f4",
   "metadata": {
    "jupyter": {
     "source_hidden": true
    },
    "tags": []
   },
   "outputs": [],
   "source": [
    "%hold on\n",
    "%hold on\n",
    "LPI_der2_Psi4 = (log10(abs(der2_Psi4(2:end))) - log10(abs(der2_Psi4(1:end-1))))./(log10(time_infield(2:end)) - log10(time_infield(1:end-1)));\n",
    "plot(log10(time_infield(2:end)),LPI_der2_Psi4)\n",
    "xlim([1.5,3.5])\n",
    "%plot(log10(time_infield),log10(abs(der_Psi0)))\n",
    "%ylim([30,50])\n",
    "xlabel('time')\n",
    "%ylabel('|\\partial_{r}(\\psi_{0}\\psi_{4})|')\n",
    "%hold off\n",
    "%plot(log10(time_infield),log10(abs(der2_Psi0)))\n",
    "%xlim([3,3.5])\n",
    "%xlabel('time')\n",
    "%ylabel('|\\partial_{r}(\\psi_{0}\\psi_{4})|')\n",
    "%hold off"
   ]
  },
  {
   "cell_type": "code",
   "execution_count": 11,
   "id": "527b20f1-3dfb-41c7-ad50-b53edfe625ea",
   "metadata": {
    "tags": []
   },
   "outputs": [
    {
     "data": {
      "image/png": "[encoded data removed]"
     },
     "execution_count": 11,
     "metadata": {},
     "output_type": "execute_result"
    }
   ],
   "source": [
    "%hold on\n",
    "plot(log10(time_infield),log10(abs(bbscalar_11)),'-b')\n",
    "hold on\n",
    "plot(log10(time_infield),log10(abs(bbscalar_11_hi)),'-r')\n",
    "plot(log10(time_infield),-1.*log10(time_infield)+0.75,'-k')\n",
    "hold off\n",
    "xlim([1.0,3.5])\n",
    "xlabel('time')\n",
    "%ylabel('|\\partial_{r}(\\psi_{0}\\psi_{4})|')\n",
    "%hold off"
   ]
  },
  {
   "cell_type": "code",
   "execution_count": null,
   "id": "df6faa95-cc53-42b4-8d04-ba9814dba407",
   "metadata": {
    "tags": []
   },
   "outputs": [],
   "source": [
    "plot((time_infield),hair,'-b')\n",
    "hold on\n",
    "plot((time_infield),hair_hi,'-r')\n",
    "%ylim([30,50])\n",
    "xlabel('log_{10}time')\n",
    "ylabel('|\\xi_{3,3}''|') \n",
    "hold off"
   ]
  },
  {
   "cell_type": "code",
   "execution_count": null,
   "id": "d7256958-bbc6-498f-9c27-d8e44c2a28e5",
   "metadata": {
    "jupyter": {
     "source_hidden": true
    },
    "tags": []
   },
   "outputs": [],
   "source": [
    "%hold on\n",
    "plot(time_infield,hair_11)\n",
    "%ylim([30,50])\n",
    "xlabel('time')\n",
    "%ylabel('|\\partial_{r}(\\psi_{0}\\psi_{4})|')\n",
    "%hold off"
   ]
  },
  {
   "cell_type": "code",
   "execution_count": 9,
   "id": "62cdef6c-a703-484c-849c-4f63ba780fb6",
   "metadata": {
    "tags": []
   },
   "outputs": [
    {
     "data": {
      "image/png": "[encoded data removed]"
     },
     "execution_count": 9,
     "metadata": {},
     "output_type": "execute_result"
    }
   ],
   "source": [
    "plot(log10(time_infield),log10(hair),'-b')\n",
    "hold on\n",
    "plot(log10(time_infield),log10(hair_hi),'-r')\n",
    "%ylim([30,50])\n",
    "xlabel('log_{10}time')\n",
    "ylabel('log_{10}|\\xi_{3,3}|')\n",
    "hold off"
   ]
  },
  {
   "cell_type": "code",
   "execution_count": null,
   "id": "3816887a-c02e-4af2-8db6-35c7634a2cb5",
   "metadata": {
    "tags": []
   },
   "outputs": [],
   "source": [
    "%hold on\n",
    "plot(time_infield(2:end),der_hair_11)\n",
    "ylim([-50,90])\n",
    "xlabel('time')\n",
    "ylabel('\\partial_{t}|\\partial_{r}(\\psi_{0}\\psi_{4})|')\n",
    "%hold off"
   ]
  },
  {
   "cell_type": "code",
   "execution_count": 10,
   "id": "92ca4138-890f-42ef-b095-939b11b57f32",
   "metadata": {
    "tags": []
   },
   "outputs": [
    {
     "name": "stderr",
     "output_type": "stream",
     "text": [
      "Unrecognized function or variable 'bbscalar'."
     ]
    }
   ],
   "source": [
    "%hold off\n",
    "plot(time_infield,abs(bbscalar))\n",
    "ylim([-5,25])\n",
    "xlabel('time')\n",
    "ylabel('|\\psi_{0}\\psi_{4}|')"
   ]
  },
  {
   "cell_type": "markdown",
   "id": "1609c769-474a-44e9-9917-d87ad680588c",
   "metadata": {},
   "source": [
    "# Gaussian with center 1.2"
   ]
  },
  {
   "cell_type": "markdown",
   "id": "1df1a447-a03f-46a6-8da0-aa7c8c21ce51",
   "metadata": {},
   "source": [
    "The analysis below uses files with names \"**Psi0_0Hi**\". The Hi means higher resolution. Since the earlier(files named with \"hi\") batch had higher resolution data compared compared to the 1st batch. This one has even higher resolution compared to the 2nd batch. Hence named \"Hi\". "
   ]
  },
  {
   "cell_type": "code",
   "execution_count": 1,
   "id": "03489c31-4261-4e77-ac6a-8d74a8e575b6",
   "metadata": {},
   "outputs": [],
   "source": [
    "addpath('phd_work/projects/non_axisymmetric_hair/data_l3m3/loc12/TimeDAT')\n",
    "addpath('phd_work/projects/non_axisymmetric_hair/data_l3m3/high_res/TimeDAT12')\n",
    "%home/sbishoyi_umassd_edu/phd_work/projects/non_axisymmetric_hair/data_l3m3/high_res/TimeDAT12/Psi0_0Hi.dat\n",
    "\n",
    "% Psi0 data \n",
    "infield_data = load('Psi0_0.dat');\n",
    "der_infield_data = load('Psi0_1.dat');\n",
    "der2_infield_data = load('Psi0_2.dat');\n",
    "\n",
    "% Psi4 data\n",
    "outfield_data = load('Psi4_0.dat');\n",
    "der_outfield_data = load('Psi4_1.dat');\n",
    "der2_outfield_data = load('Psi4_2.dat');\n",
    "\n",
    "% Psi0 higher resolution data\n",
    "infield_data_Hi = load('Psi0_0Hi.dat');\n",
    "der_infield_data_Hi = load('Psi0_1Hi.dat');\n",
    "der2_infield_data_Hi = load('Psi0_2Hi.dat');\n",
    "\n",
    "% extracting Psi0 and its derivatives\n",
    "\n",
    "time_infield = infield_data(1:29047,1);\n",
    "real_infield = infield_data(1:29047,2);\n",
    "imag_infield = infield_data(1:29047,3);\n",
    "\n",
    "real_der_infield = der_infield_data(1:29047,2);\n",
    "imag_der_infield = der_infield_data(1:29047,3);\n",
    "real_der2_infield = der2_infield_data(1:29047,2);\n",
    "imag_der2_infield = der2_infield_data(1:29047,3);\n",
    "\n",
    "% extracting higher resolution\n",
    "time_infield_Hi = infield_data_Hi(1:29047,1);\n",
    "real_infield_Hi = infield_data_Hi(1:29047,2);\n",
    "imag_infield_Hi = infield_data_Hi(1:29047,3);\n",
    "real_der_infield_Hi = der_infield_data_Hi(1:29047,2);\n",
    "imag_der_infield_Hi = der_infield_data_Hi(1:29047,3);\n",
    "real_der2_infield_Hi = der2_infield_data_Hi(1:29047,2);\n",
    "imag_der2_infield_Hi = der2_infield_data_Hi(1:29047,3);\n",
    "\n",
    "% extracting Psi4 and its derivatives\n",
    "\n",
    "time_outfield = outfield_data(1:29047,1);\n",
    "real_outfield = outfield_data(1:29047,2);\n",
    "imag_outfield = outfield_data(1:29047,3);\n",
    "real_der_outfield = der_outfield_data(1:29047,2);\n",
    "imag_der_outfield = der_outfield_data(1:29047,3);\n",
    "real_der2_outfield = der2_outfield_data(1:29047,2);\n",
    "imag_der2_outfield = der2_outfield_data(1:29047,3);\n",
    "\n",
    "rmpath('phd_work/projects/non_axisymmetric_hair/data_l3m3/loc12/TimeDAT')\n",
    "rmpath('phd_work/projects/non_axisymmetric_hair/data_l3m3/high_res/TimeDAT12')"
   ]
  },
  {
   "cell_type": "code",
   "execution_count": 5,
   "id": "4740e224-e7f2-4381-b2ce-e92ea18c56a0",
   "metadata": {},
   "outputs": [
    {
     "data": {
      "text/html": [
       "<html><body><pre>ans = 1x2 double\n",
       "       29047           1\n",
       "</pre></body></html>"
      ],
      "text/plain": [
       "ans = 1x2 double\n",
       "       29047           1\n"
      ]
     },
     "execution_count": 5,
     "metadata": {},
     "output_type": "execute_result"
    },
    {
     "data": {
      "text/html": [
       "<html><body><pre>ans = 1x2 double\n",
       "       85129           1\n",
       "</pre></body></html>"
      ],
      "text/plain": [
       "ans = 1x2 double\n",
       "       85129           1\n"
      ]
     },
     "execution_count": 5,
     "metadata": {},
     "output_type": "execute_result"
    },
    {
     "data": {
      "text/html": [
       "<html><body><pre>ans = 1.4654e+03</pre></body></html>"
      ],
      "text/plain": [
       "ans = 1.4654e+03"
      ]
     },
     "execution_count": 5,
     "metadata": {},
     "output_type": "execute_result"
    },
    {
     "data": {
      "text/html": [
       "<html><body><pre>ans = 2.0000e+03</pre></body></html>"
      ],
      "text/plain": [
       "ans = 2.0000e+03"
      ]
     },
     "execution_count": 5,
     "metadata": {},
     "output_type": "execute_result"
    },
    {
     "data": {
      "text/html": [
       "<html><body><pre>ans = 499.9927</pre></body></html>"
      ],
      "text/plain": [
       "ans = 499.9927"
      ]
     },
     "execution_count": 5,
     "metadata": {},
     "output_type": "execute_result"
    },
    {
     "data": {
      "text/html": [
       "<html><body><pre>ans = 2.0000e+03</pre></body></html>"
      ],
      "text/plain": [
       "ans = 2.0000e+03"
      ]
     },
     "execution_count": 5,
     "metadata": {},
     "output_type": "execute_result"
    }
   ],
   "source": [
    "size(infield_data(1:end,1))\n",
    "size(infield_data_Hi(1:end,1))\n",
    "\n",
    "infield_data_Hi(end,1)\n",
    "infield_data(end,1)\n",
    "\n",
    "time_infield_Hi(end,end)\n",
    "time_infield(end,end)"
   ]
  },
  {
   "cell_type": "code",
   "execution_count": 17,
   "id": "bdb78816-12ba-44a0-9735-71692c83a896",
   "metadata": {},
   "outputs": [],
   "source": [
    "% constructing the fields Psi0, Psi4 and their derivatives\n",
    "\n",
    "Psi0 = real_infield + 1i.*imag_infield;\n",
    "Psi0_Hi = real_infield_Hi + 1i.*imag_infield_Hi;\n",
    "Psi4 = real_outfield + 1i.*imag_outfield;\n",
    "\n",
    "der_Psi0 = real_der_infield + 1i.*imag_der_infield;\n",
    "der_Psi0_Hi = real_der_infield_Hi + 1i.*imag_der_infield_Hi;\n",
    "der_Psi4 = real_der_outfield + 1i.*imag_der_outfield;\n",
    "\n",
    "der2_Psi0 = real_der2_infield + 1i.*imag_der2_infield;\n",
    "der2_Psi4 = real_der2_outfield + 1i.*imag_der2_outfield;\n",
    "\n",
    "% the beetle-burko scalar and the gravitational hair\n",
    "\n",
    "bbscalar_12 = Psi0.*Psi4;\n",
    "bbscalar_12_Hi = Psi0_Hi.*Psi4;\n",
    "\n",
    "%hair_new = abs(Psi0.*der2_Psi4 + Psi4.*der2_Psi0 + 2*der_Psi0.*der_Psi4);\n",
    "hair_old = abs(Psi0.*der_Psi4 + Psi4.*der_Psi0);\n",
    "hair_old_Hi = abs(Psi0_Hi.*der_Psi4 + Psi4.*der_Psi0_Hi);\n",
    "%tder_hair_11 = (hair_11(2:end) - hair_11(1:end-1))./(time_infield(2:end) - time_infield(1:end-1));"
   ]
  },
  {
   "cell_type": "code",
   "execution_count": 18,
   "id": "65b0ff97-b9c3-4dd4-b60a-94ac2f61bcb9",
   "metadata": {},
   "outputs": [
    {
     "data": {
      "image/png": "[encoded data removed]"
     },
     "execution_count": 18,
     "metadata": {},
     "output_type": "execute_result"
    }
   ],
   "source": [
    "plot(log10(time_infield),log10(abs(Psi0)),'--')\n",
    "hold on\n",
    "plot(log10(time_infield_Hi),log10(abs(Psi0_Hi)))\n",
    "hold off"
   ]
  },
  {
   "cell_type": "code",
   "execution_count": 20,
   "id": "a56e7f70-9452-4d7c-914c-cbc59c73c23a",
   "metadata": {},
   "outputs": [
    {
     "data": {
      "image/png": "[encoded data removed]"
     },
     "execution_count": 20,
     "metadata": {},
     "output_type": "execute_result"
    }
   ],
   "source": [
    "% plotting local power index of Psi0 and its higher resolution counterpart.\n",
    "\n",
    "LPI_Psi0 = (log10(abs(Psi0(2:end))) - log10(abs(Psi0(1:end-1))))./(log10(time_infield(2:end)) - log10(time_infield(1:end-1)));\n",
    "LPI_Psi0_Hi = (log10(abs(Psi0_Hi(2:end))) - log10(abs(Psi0_Hi(1:end-1))))./(log10(time_infield_Hi(2:end)) - log10(time_infield_Hi(1:end-1)));\n",
    "\n",
    "plot(log10(time_infield(2:end)),LPI_Psi0)\n",
    "hold on\n",
    "plot(log10(time_infield_Hi(2:end)),LPI_Psi0_Hi)\n",
    "xlim([2,3.4])\n",
    "ylim([-6,0])\n",
    "xlabel('time')\n",
    "%ylabel('|\\partial_{r}(\\psi_{0}\\psi_{4})|')\n",
    "hold off"
   ]
  },
  {
   "cell_type": "code",
   "execution_count": null,
   "id": "7d40fabf-f8ca-4efb-bc4d-fc82b63f27ea",
   "metadata": {
    "jupyter": {
     "source_hidden": true
    },
    "tags": []
   },
   "outputs": [],
   "source": [
    "LPI_Psi4 = (log10(abs(Psi4(2:end))) - log10(abs(Psi4(1:end-1))))./(log10(time_infield(2:end)) - log10(time_infield(1:end-1)));\n",
    "%hold on\n",
    "plot(log10(time_infield(2:end)),LPI_Psi4)\n",
    "xlim([2,3.4])\n",
    "xlabel('time')\n",
    "%plot(log10(time_infield),log10(abs(Psi4)))\n",
    "%xlim([3,3.4])\n",
    "%xlabel('time')\n",
    "%ylabel('|\\partial_{r}(\\psi_{0}\\psi_{4})|')\n",
    "%hold off"
   ]
  },
  {
   "cell_type": "code",
   "execution_count": 21,
   "id": "dc74f7ea-4dad-4c5a-b9ab-f98a880d6811",
   "metadata": {},
   "outputs": [
    {
     "data": {
      "image/png": "[encoded data removed]"
     },
     "execution_count": 21,
     "metadata": {},
     "output_type": "execute_result"
    }
   ],
   "source": [
    "% beetle-burko scalar in lower and higher resolution.\n",
    "\n",
    "plot(log10(time_infield),log10(abs(bbscalar_12)))\n",
    "hold on\n",
    "plot(log10(time_infield_Hi),log(abs(bbscalar_12_Hi)))\n",
    "xlim([2,3.5])\n",
    "xlabel('time')\n",
    "%ylabel('|\\partial_{r}(\\psi_{0}\\psi_{4})|')\n",
    "hold off"
   ]
  },
  {
   "cell_type": "code",
   "execution_count": 22,
   "id": "35e6b0ac-6a1e-4fed-9d19-7175181631a5",
   "metadata": {},
   "outputs": [
    {
     "data": {
      "image/png": "[encoded data removed]"
     },
     "execution_count": 22,
     "metadata": {},
     "output_type": "execute_result"
    }
   ],
   "source": [
    "% gravitational hair in lower and higher resolution\n",
    "\n",
    "plot(log10(time_infield(1:end)),hair_old)\n",
    "hold on\n",
    "plot(log10(time_infield_Hi(1:end)),hair_old_Hi)\n",
    "hold off"
   ]
  },
  {
   "cell_type": "markdown",
   "id": "b9d0a646-e986-4d11-a32a-704ac99f5746",
   "metadata": {},
   "source": [
    "The two plots above have to be checked again. --> I am using incorrect values of $\\psi_0$. I need to multiply every other value of $\\psi_0$ with $\\psi_4$ to get bbscalar."
   ]
  },
  {
   "cell_type": "markdown",
   "id": "4909235e-3e0a-476a-8626-e8e7c1b3bcb9",
   "metadata": {},
   "source": [
    "# Gaussian with center 1.3"
   ]
  },
  {
   "cell_type": "code",
   "execution_count": null,
   "id": "02c4910f-48ed-4af4-953b-c84047a5e8b6",
   "metadata": {
    "jupyter": {
     "source_hidden": true
    },
    "tags": []
   },
   "outputs": [],
   "source": [
    "addpath('phd_work/projects/non-axisymmetric-hair/old_data/loc13')\n",
    "infield_data = load('Psi0_TimeDAT_0.dat');\n",
    "der_infield_data = load('Psi0_TimeDAT_1.dat');\n",
    "outfield_data = load('Psi4_TimeDAT_0.dat');\n",
    "der_outfield_data = load('Psi4_TimeDAT_1.dat');\n",
    "\n",
    "time_infield = infield_data(1:51000,1);\n",
    "real_infield = infield_data(1:51000,2);\n",
    "imag_infield = infield_data(1:51000,3);\n",
    "real_der_infield = der_infield_data(1:51000,2);\n",
    "imag_der_infield = der_infield_data(1:51000,3);\n",
    "\n",
    "time_outfield = outfield_data(1:51000,1);\n",
    "real_outfield = outfield_data(1:51000,2);\n",
    "imag_outfield = outfield_data(1:51000,3);\n",
    "real_der_outfield = der_outfield_data(1:51000,2);\n",
    "imag_der_outfield = der_outfield_data(1:51000,3);\n",
    "\n",
    "rmpath('phd_work/projects/non-axisymmetric-hair/old_data/loc13')"
   ]
  },
  {
   "cell_type": "code",
   "execution_count": null,
   "id": "b8258d4f-ff35-4aba-9747-927c1448fd30",
   "metadata": {
    "jupyter": {
     "source_hidden": true
    },
    "tags": []
   },
   "outputs": [],
   "source": [
    "Psi0 = real_infield + 1i.*imag_infield;\n",
    "Psi4 = real_outfield + 1i.*imag_outfield;\n",
    "der_Psi0 = real_der_infield + 1i.*imag_der_infield;\n",
    "der_Psi4 = real_der_outfield + 1i.*imag_der_outfield;\n",
    "bbscalar_13 = Psi0.*Psi4;\n",
    "hair_13 = abs(Psi0.*der_Psi4 + Psi4.*der_Psi0);\n",
    "der_hair_13 = (hair_13(2:end) - hair_13(1:end-1))./(time_infield(2:end) - time_infield(1:end-1));"
   ]
  },
  {
   "cell_type": "code",
   "execution_count": null,
   "id": "f97bb357-191c-43a9-b47c-44341842feda",
   "metadata": {
    "jupyter": {
     "source_hidden": true
    },
    "tags": []
   },
   "outputs": [],
   "source": [
    "%hold on\n",
    "plot(time_infield,hair_13)\n",
    "ylim([20,50])\n",
    "xlabel('time')\n",
    "ylabel('|\\partial_{r}(\\psi_{0}\\psi_{4})|')\n",
    "%hold off"
   ]
  },
  {
   "cell_type": "markdown",
   "id": "37ab0d9e-2348-47f7-ae7c-76341784ef19",
   "metadata": {
    "tags": []
   },
   "source": [
    "# Gaussian with center 1.4"
   ]
  },
  {
   "cell_type": "code",
   "execution_count": null,
   "id": "8af00222-1a7d-44fc-aac1-c7509db10a72",
   "metadata": {
    "jupyter": {
     "source_hidden": true
    },
    "tags": []
   },
   "outputs": [],
   "source": [
    "addpath('phd_work/projects/non-axisymmetric-hair/old_data/loc14')\n",
    "infield_data = load('Psi0_TimeDAT_0.dat');\n",
    "der_infield_data = load('Psi0_TimeDAT_1.dat');\n",
    "outfield_data = load('Psi4_TimeDAT_0.dat');\n",
    "der_outfield_data = load('Psi4_TimeDAT_1.dat');\n",
    "\n",
    "time_infield = infield_data(1:51000,1);\n",
    "real_infield = infield_data(1:51000,2);\n",
    "imag_infield = infield_data(1:51000,3);\n",
    "real_der_infield = der_infield_data(1:51000,2);\n",
    "imag_der_infield = der_infield_data(1:51000,3);\n",
    "\n",
    "time_outfield = outfield_data(1:51000,1);\n",
    "real_outfield = outfield_data(1:51000,2);\n",
    "imag_outfield = outfield_data(1:51000,3);\n",
    "real_der_outfield = der_outfield_data(1:51000,2);\n",
    "imag_der_outfield = der_outfield_data(1:51000,3);\n",
    "\n",
    "rmpath('phd_work/projects/non-axisymmetric-hair/old_data/loc14')"
   ]
  },
  {
   "cell_type": "code",
   "execution_count": null,
   "id": "e0f8c78d-02aa-498d-99a4-f73ceafe414f",
   "metadata": {
    "jupyter": {
     "source_hidden": true
    },
    "tags": []
   },
   "outputs": [],
   "source": [
    "Psi0 = real_infield + 1i.*imag_infield;\n",
    "Psi4 = real_outfield + 1i.*imag_outfield;\n",
    "der_Psi0 = real_der_infield + 1i.*imag_der_infield;\n",
    "der_Psi4 = real_der_outfield + 1i.*imag_der_outfield;\n",
    "bbscalar_14 = Psi0.*Psi4;\n",
    "hair_14 = abs(Psi0.*der_Psi4 + Psi4.*der_Psi0);\n",
    "der_hair_14 = (hair_14(2:end) - hair_14(1:end-1))./(time_infield(2:end) - time_infield(1:end-1));"
   ]
  },
  {
   "cell_type": "code",
   "execution_count": null,
   "id": "b2089cab-2cc9-49db-b555-028854a81fa0",
   "metadata": {
    "jupyter": {
     "source_hidden": true
    },
    "tags": []
   },
   "outputs": [],
   "source": [
    "%hold on\n",
    "plot(time_infield,hair_14)\n",
    "ylim([0,50])\n",
    "xlabel('time')\n",
    "ylabel('|\\partial_{r}(\\psi_{0}\\psi_{4})|')\n",
    "%hold off"
   ]
  },
  {
   "cell_type": "code",
   "execution_count": null,
   "id": "8216b1cc-1877-493b-a661-b1f2fd34b317",
   "metadata": {},
   "outputs": [],
   "source": []
  },
  {
   "cell_type": "code",
   "execution_count": null,
   "id": "242c4e53-1a18-4295-a52c-5aebaf37f66b",
   "metadata": {},
   "outputs": [],
   "source": [
    "whos"
   ]
  },
  {
   "cell_type": "code",
   "execution_count": null,
   "id": "993b3e78-3559-4115-8532-a3e67102ff63",
   "metadata": {},
   "outputs": [],
   "source": []
  }
 ],
 "metadata": {
  "kernelspec": {
   "display_name": "MATLAB Kernel [conda env:jupyterlab-matlab] *",
   "language": "matlab",
   "name": "conda-env-jupyterlab-matlab-jupyter_matlab_kernel"
  },
  "language_info": {
   "file_extension": ".m",
   "mimetype": "text/x-matlab",
   "name": "matlab"
  }
 },
 "nbformat": 4,
 "nbformat_minor": 5
}
