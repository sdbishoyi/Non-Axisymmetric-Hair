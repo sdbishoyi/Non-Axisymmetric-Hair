{
 "cells": [
  {
   "cell_type": "markdown",
   "id": "5b1c04fd-0323-446c-ad03-fbd57de0d32e",
   "metadata": {},
   "source": [
    "# Finding the r dependence in the Ori-expansion"
   ]
  },
  {
   "cell_type": "markdown",
   "id": "bf1f12d3-686d-4aed-a10e-281a3854572a",
   "metadata": {},
   "source": [
    "# Old Data"
   ]
  },
  {
   "cell_type": "markdown",
   "id": "63b8a4de-9092-42cc-b0eb-02f58cf52335",
   "metadata": {},
   "source": [
    "## At time=2000"
   ]
  },
  {
   "cell_type": "code",
   "execution_count": null,
   "id": "a0b313a7-f304-4731-a53d-3bc4059abc8c",
   "metadata": {
    "jupyter": {
     "source_hidden": true
    },
    "tags": []
   },
   "outputs": [],
   "source": [
    "addpath('phd_work/projects/non-axisymmetric-hair/new_data/loc11')\n",
    "%addpath('phd_work/projects/non-axisymmetric-hair/old_data/loc11')\n",
    "\n",
    "infield_data = load('Psi0_SpaceDAT_loc11_102000.dat'); %-- data at fixed r*\n",
    "outfield_data = load('Psi4_SpaceDAT_loc11_102000.dat');\n",
    "\n",
    "rho_infield = infield_data(:,1);\n",
    "real_infield = infield_data(:,2);\n",
    "imag_infield = infield_data(:,3);\n",
    "\n",
    "rho_outfield = outfield_data(:,1);\n",
    "real_outfield = outfield_data(:,2);\n",
    "imag_outfield = outfield_data(:,3);\n",
    "\n",
    "rmpath('phd_work/projects/non-axisymmetric-hair/new_data/loc11')"
   ]
  },
  {
   "cell_type": "code",
   "execution_count": 3,
   "id": "7b9ea22a-9704-49ac-ab84-0e2edd90068a",
   "metadata": {
    "jupyter": {
     "source_hidden": true
    },
    "tags": []
   },
   "outputs": [],
   "source": [
    "Psi0 = real_infield + 1i.*imag_infield;\n",
    "Psi4 = real_outfield + 1i.*imag_outfield;\n",
    "\n",
    "bbscalar = Psi0.*Psi4;\n",
    "indep_bbscalar = abs(bbscalar).*time.^2; % time-independent bbscalar\n",
    "indep_bbscalar_2000 = indep_bbscalar;"
   ]
  },
  {
   "cell_type": "code",
   "execution_count": 4,
   "id": "ff6149ea-1864-43b4-a6c6-847dc9c2e920",
   "metadata": {
    "collapsed": true,
    "jupyter": {
     "outputs_hidden": true,
     "source_hidden": true
    },
    "tags": []
   },
   "outputs": [
    {
     "data": {
      "text/html": [
       "<html><body><pre>ans = 2.0723</pre></body></html>"
      ],
      "text/plain": [
       "ans = 2.0723"
      ]
     },
     "execution_count": 4,
     "metadata": {},
     "output_type": "execute_result"
    },
    {
     "data": {
      "text/html": [
       "<html><body><pre>ans = 0</pre></body></html>"
      ],
      "text/plain": [
       "ans = 0"
      ]
     },
     "execution_count": 4,
     "metadata": {},
     "output_type": "execute_result"
    }
   ],
   "source": [
    "% rho_infield and rho_outfield are the same.\n",
    "rho_infield(end)\n",
    "r = rho_infield./(1 - rho_infield/S);\n",
    "r(1)-M"
   ]
  },
  {
   "cell_type": "code",
   "execution_count": 5,
   "id": "3b9991c8-d869-4e95-a638-1188e0cb6ad1",
   "metadata": {
    "collapsed": true,
    "jupyter": {
     "outputs_hidden": true,
     "source_hidden": true
    },
    "tags": []
   },
   "outputs": [
    {
     "data": {
      "image/png": "[encoded data removed]"
     },
     "execution_count": 5,
     "metadata": {},
     "output_type": "execute_result"
    }
   ],
   "source": [
    "plot(r,indep_bbscalar_2000.*r.^-0.30.*(1-M./r).^1)\n",
    "xlim([0.95,2.4])\n",
    "xticks([linspace(0.95,2.4,15)])"
   ]
  },
  {
   "cell_type": "markdown",
   "id": "07fa3da4-6c47-4441-aec4-ae1bfa47938f",
   "metadata": {},
   "source": [
    "The above data has not been used as of **1/8/2024** -- used as of **1/9/2024**"
   ]
  },
  {
   "cell_type": "markdown",
   "id": "24cc9fa1-b33f-4d4e-9d19-033eaf3f506f",
   "metadata": {
    "jupyter": {
     "source_hidden": true
    },
    "tags": []
   },
   "source": [
    "## At time=1900"
   ]
  },
  {
   "cell_type": "code",
   "execution_count": 32,
   "id": "c03f812a-f2a8-4b2f-b6d9-340eb766397c",
   "metadata": {
    "collapsed": true,
    "jupyter": {
     "outputs_hidden": true,
     "source_hidden": true
    },
    "tags": []
   },
   "outputs": [
    {
     "data": {
      "text/html": [
       "<html><body><pre>ans = 164</pre></body></html>"
      ],
      "text/plain": [
       "ans = 164"
      ]
     },
     "execution_count": 32,
     "metadata": {},
     "output_type": "execute_result"
    },
    {
     "data": {
      "text/html": [
       "<html><body><pre>ans = 164</pre></body></html>"
      ],
      "text/plain": [
       "ans = 164"
      ]
     },
     "execution_count": 32,
     "metadata": {},
     "output_type": "execute_result"
    }
   ],
   "source": [
    "addpath('phd_work/projects/non-axisymmetric-hair/loc11')\n",
    "\n",
    "infield_data = load('Psi0_SpaceDAT_loc11_101900.dat'); %-- data at fixed r*\n",
    "outfield_data = load('Psi4_SpaceDAT_loc11_101900.dat');\n",
    "\n",
    "rho_infield = infield_data(:,1);\n",
    "real_infield = infield_data(:,2);\n",
    "imag_infield = infield_data(:,3);\n",
    "\n",
    "rho_outfield = outfield_data(:,1);\n",
    "real_outfield = outfield_data(:,2);\n",
    "imag_outfield = outfield_data(:,3);\n",
    "\n",
    "length(rho_infield)\n",
    "length(rho_outfield)\n",
    "\n",
    "M=1;\n",
    "S=19;\n",
    "time=1900;"
   ]
  },
  {
   "cell_type": "code",
   "execution_count": 33,
   "id": "ebccd46d-1f6f-4479-bf6f-280b5162cb11",
   "metadata": {
    "jupyter": {
     "source_hidden": true
    },
    "tags": []
   },
   "outputs": [],
   "source": [
    "Psi0 = real_infield + 1i.*imag_infield;\n",
    "Psi4 = real_outfield + 1i.*imag_outfield;\n",
    "\n",
    "bbscalar = Psi0.*Psi4;\n",
    "indep_bbscalar = abs(bbscalar).*time.^2; % time-independent bbscalar\n",
    "indep_bbscalar_1900 = indep_bbscalar;"
   ]
  },
  {
   "cell_type": "code",
   "execution_count": null,
   "id": "d022cfd9-ccca-4788-b0f1-adeceeb4749f",
   "metadata": {
    "jupyter": {
     "source_hidden": true
    },
    "tags": []
   },
   "outputs": [],
   "source": [
    "% rho_infield and rho_outfield are the same.\n",
    "rho_infield(end)\n",
    "r = rho_infield./(1 - rho_infield/S);\n",
    "r(1)-M"
   ]
  },
  {
   "cell_type": "code",
   "execution_count": 35,
   "id": "a326c543-5f57-4042-a192-797d60a2eebc",
   "metadata": {
    "collapsed": true,
    "jupyter": {
     "outputs_hidden": true,
     "source_hidden": true
    },
    "tags": []
   },
   "outputs": [
    {
     "data": {
      "image/png": "[encoded data removed]"
     },
     "execution_count": 35,
     "metadata": {},
     "output_type": "execute_result"
    }
   ],
   "source": [
    "plot(r,indep_bbscalar_1900.*r.^-0.30.*(1-M./r).^1)\n",
    "xlim([0.95,2.4])\n",
    "xticks([linspace(0.95,2.4,15)])"
   ]
  },
  {
   "cell_type": "markdown",
   "id": "5c1456de-ec42-4d51-b557-38993ad99c6e",
   "metadata": {},
   "source": [
    "## At time=1800"
   ]
  },
  {
   "cell_type": "code",
   "execution_count": null,
   "id": "f16d8aa2-d996-4f26-bf46-99a07757d7ff",
   "metadata": {
    "jupyter": {
     "source_hidden": true
    },
    "tags": []
   },
   "outputs": [],
   "source": [
    "addpath('phd_work/projects/non-axisymmetric-hair/loc11')\n",
    "\n",
    "infield_data = load('Psi0_SpaceDAT_loc11_101800.dat'); %-- data at fixed r*\n",
    "outfield_data = load('Psi4_SpaceDAT_loc11_101800.dat');\n",
    "\n",
    "rho_infield = infield_data(:,1);\n",
    "real_infield = infield_data(:,2);\n",
    "imag_infield = infield_data(:,3);\n",
    "\n",
    "rho_outfield = outfield_data(:,1);\n",
    "real_outfield = outfield_data(:,2);\n",
    "imag_outfield = outfield_data(:,3);\n",
    "\n",
    "length(rho_infield)\n",
    "length(rho_outfield)\n",
    "\n",
    "M=1;\n",
    "S=19;\n",
    "time=1800;"
   ]
  },
  {
   "cell_type": "code",
   "execution_count": 29,
   "id": "a74d4d45-f5a4-471b-b67a-3b5d5d69bf3b",
   "metadata": {
    "jupyter": {
     "source_hidden": true
    },
    "tags": []
   },
   "outputs": [],
   "source": [
    "Psi0 = real_infield + 1i.*imag_infield;\n",
    "Psi4 = real_outfield + 1i.*imag_outfield;\n",
    "\n",
    "bbscalar = Psi0.*Psi4;\n",
    "indep_bbscalar = abs(bbscalar).*time.^2; % time-independent bbscalar\n",
    "indep_bbscalar_1800 = indep_bbscalar;"
   ]
  },
  {
   "cell_type": "code",
   "execution_count": 30,
   "id": "8df4690e-0929-46e5-8983-ea4e146f31db",
   "metadata": {
    "jupyter": {
     "source_hidden": true
    },
    "tags": []
   },
   "outputs": [],
   "source": [
    "r = rho_infield./(1 - rho_infield/S);"
   ]
  },
  {
   "cell_type": "code",
   "execution_count": 31,
   "id": "7d599622-cf49-4f05-86b2-fa53c8ad4ec6",
   "metadata": {
    "collapsed": true,
    "jupyter": {
     "outputs_hidden": true,
     "source_hidden": true
    },
    "tags": []
   },
   "outputs": [
    {
     "data": {
      "image/png": "[encoded data removed]"
     },
     "execution_count": 31,
     "metadata": {},
     "output_type": "execute_result"
    }
   ],
   "source": [
    "plot(r,indep_bbscalar_1800.*r.^-0.3.*(1-M./r).^1)\n",
    "xlim([0.95,2.4])\n",
    "xticks([linspace(0.95,2.4,15)])"
   ]
  },
  {
   "cell_type": "markdown",
   "id": "cec63e98-d9d4-4697-a0e6-2bb12ef6b454",
   "metadata": {},
   "source": [
    "## At time=1700"
   ]
  },
  {
   "cell_type": "code",
   "execution_count": null,
   "id": "a05c3370-edb3-4819-90f3-635181d1dafc",
   "metadata": {
    "jupyter": {
     "source_hidden": true
    },
    "tags": []
   },
   "outputs": [],
   "source": [
    "addpath('phd_work/projects/non-axisymmetric-hair/loc11')\n",
    "\n",
    "infield_data = load('Psi0_SpaceDAT_loc11_101700.dat'); %-- data at fixed r*\n",
    "outfield_data = load('Psi4_SpaceDAT_loc11_101700.dat');\n",
    "\n",
    "rho_infield = infield_data(:,1);\n",
    "real_infield = infield_data(:,2);\n",
    "imag_infield = infield_data(:,3);\n",
    "\n",
    "rho_outfield = outfield_data(:,1);\n",
    "real_outfield = outfield_data(:,2);\n",
    "imag_outfield = outfield_data(:,3);\n",
    "\n",
    "length(rho_infield)\n",
    "length(rho_outfield)\n",
    "\n",
    "M=1;\n",
    "S=19;\n",
    "time=1700;"
   ]
  },
  {
   "cell_type": "code",
   "execution_count": 22,
   "id": "f1f9d9f9-aacf-4443-b283-386194125a63",
   "metadata": {
    "jupyter": {
     "source_hidden": true
    },
    "tags": []
   },
   "outputs": [],
   "source": [
    "Psi0 = real_infield + 1i.*imag_infield;\n",
    "Psi4 = real_outfield + 1i.*imag_outfield;\n",
    "\n",
    "bbscalar = Psi0.*Psi4;\n",
    "indep_bbscalar = abs(bbscalar).*time.^2; % time-independent bbscalar\n",
    "indep_bbscalar_1700 = indep_bbscalar;"
   ]
  },
  {
   "cell_type": "code",
   "execution_count": null,
   "id": "57e56dac-b5f4-43c6-8457-488cb3c9f7a4",
   "metadata": {
    "jupyter": {
     "source_hidden": true
    },
    "tags": []
   },
   "outputs": [],
   "source": [
    "% rho_infield and rho_outfield are the same.\n",
    "rho_infield(end)\n",
    "r = rho_infield./(1 - rho_infield/S);\n",
    "r(1)-M"
   ]
  },
  {
   "cell_type": "code",
   "execution_count": 24,
   "id": "3425159a-a037-4aa2-a825-6735246f822a",
   "metadata": {
    "collapsed": true,
    "jupyter": {
     "outputs_hidden": true,
     "source_hidden": true
    },
    "tags": []
   },
   "outputs": [
    {
     "data": {
      "image/png": "[encoded data removed]"
     },
     "execution_count": 24,
     "metadata": {},
     "output_type": "execute_result"
    }
   ],
   "source": [
    "plot(r,indep_bbscalar_1700.*r.^-0.3.*(1-M./r).^1)\n",
    "xlim([0.95,2.4])\n",
    "xticks([linspace(0.95,2.4,15)])"
   ]
  },
  {
   "cell_type": "markdown",
   "id": "7a2f2012-2092-422f-88ed-60de3811b8df",
   "metadata": {},
   "source": [
    "## At time=1600"
   ]
  },
  {
   "cell_type": "code",
   "execution_count": null,
   "id": "56ac8b9d-53b8-41ee-a547-372b542620bf",
   "metadata": {
    "jupyter": {
     "source_hidden": true
    },
    "tags": []
   },
   "outputs": [],
   "source": [
    "addpath('phd_work/projects/non-axisymmetric-hair/loc11')\n",
    "\n",
    "infield_data = load('Psi0_SpaceDAT_loc11_101600.dat'); %-- data at fixed r*\n",
    "outfield_data = load('Psi4_SpaceDAT_loc11_101600.dat');\n",
    "\n",
    "rho_infield = infield_data(:,1);\n",
    "real_infield = infield_data(:,2);\n",
    "imag_infield = infield_data(:,3);\n",
    "\n",
    "rho_outfield = outfield_data(:,1);\n",
    "real_outfield = outfield_data(:,2);\n",
    "imag_outfield = outfield_data(:,3);\n",
    "\n",
    "length(rho_infield)\n",
    "length(rho_outfield)\n",
    "\n",
    "M=1;\n",
    "S=19;\n",
    "time=1600;"
   ]
  },
  {
   "cell_type": "code",
   "execution_count": 18,
   "id": "9144fd39-440f-4e05-9079-7c089d0b4cde",
   "metadata": {
    "jupyter": {
     "source_hidden": true
    },
    "tags": []
   },
   "outputs": [],
   "source": [
    "Psi0 = real_infield + 1i.*imag_infield;\n",
    "Psi4 = real_outfield + 1i.*imag_outfield;\n",
    "\n",
    "bbscalar = Psi0.*Psi4;\n",
    "indep_bbscalar = abs(bbscalar).*time.^2; % time-independent bbscalar\n",
    "indep_bbscalar_1600 = indep_bbscalar;"
   ]
  },
  {
   "cell_type": "code",
   "execution_count": 19,
   "id": "493505a2-187a-4561-b889-666cabee7e63",
   "metadata": {
    "collapsed": true,
    "jupyter": {
     "outputs_hidden": true,
     "source_hidden": true
    },
    "tags": []
   },
   "outputs": [
    {
     "data": {
      "text/html": [
       "<html><body><pre>ans = 2.0723</pre></body></html>"
      ],
      "text/plain": [
       "ans = 2.0723"
      ]
     },
     "execution_count": 19,
     "metadata": {},
     "output_type": "execute_result"
    },
    {
     "data": {
      "text/html": [
       "<html><body><pre>ans = 0</pre></body></html>"
      ],
      "text/plain": [
       "ans = 0"
      ]
     },
     "execution_count": 19,
     "metadata": {},
     "output_type": "execute_result"
    }
   ],
   "source": [
    "% rho_infield and rho_outfield are the same.\n",
    "rho_infield(end)\n",
    "r = rho_infield./(1 - rho_infield/S);\n",
    "r(1)-M"
   ]
  },
  {
   "cell_type": "code",
   "execution_count": 20,
   "id": "b50ebe16-cf1f-4de3-9aaf-c46b1c46ce95",
   "metadata": {
    "collapsed": true,
    "jupyter": {
     "outputs_hidden": true,
     "source_hidden": true
    },
    "tags": []
   },
   "outputs": [
    {
     "data": {
      "image/png": "[encoded data removed]"
     },
     "execution_count": 20,
     "metadata": {},
     "output_type": "execute_result"
    }
   ],
   "source": [
    "plot(r,indep_bbscalar_1600.*r.^-0.3.*(1-M./r).^1)\n",
    "xlim([0.95,2.4])\n",
    "xticks([linspace(0.95,2.4,15)])"
   ]
  },
  {
   "cell_type": "code",
   "execution_count": null,
   "id": "07cdd732-c7aa-495d-a20c-76da5d8ba0f3",
   "metadata": {
    "jupyter": {
     "source_hidden": true
    },
    "tags": []
   },
   "outputs": [],
   "source": [
    "format long E\n",
    "test = indep_bbscalar_1900.*r.^-0.3.*(1-M./r).^1;\n",
    "test(end-8:end)"
   ]
  },
  {
   "cell_type": "code",
   "execution_count": 37,
   "id": "2a76aaa7-aaaa-4d77-824a-218e2e7f9e5a",
   "metadata": {
    "collapsed": true,
    "jupyter": {
     "outputs_hidden": true,
     "source_hidden": true
    },
    "tags": []
   },
   "outputs": [
    {
     "data": {
      "image/png": "[encoded data removed]"
     },
     "execution_count": 37,
     "metadata": {},
     "output_type": "execute_result"
    }
   ],
   "source": [
    "hold on\n",
    "plot(r,indep_bbscalar_1600.*r.^-0.3.*(1-M./r).^1)\n",
    "plot(r,indep_bbscalar_1700.*r.^-0.3.*(1-M./r).^1)\n",
    "plot(r,indep_bbscalar_1800.*r.^-0.3.*(1-M./r).^1)\n",
    "plot(r,indep_bbscalar_1900.*r.^-0.3.*(1-M./r).^1)\n",
    "hold off\n",
    "xlim([0.95,2.4])\n",
    "xticks([linspace(0.95,2.4,15)])"
   ]
  },
  {
   "cell_type": "markdown",
   "id": "9f2892a7-72ec-49bf-8079-a8f3c3ccd7f0",
   "metadata": {},
   "source": [
    "# New Data"
   ]
  },
  {
   "cell_type": "markdown",
   "id": "667e52c0-54a0-48d4-baa8-513e67dd0eb9",
   "metadata": {},
   "source": [
    "## Gaussian with center 1.1"
   ]
  },
  {
   "cell_type": "markdown",
   "id": "a032baee-0634-41e3-aa9a-7aa5f0cbe4fe",
   "metadata": {},
   "source": [
    "## At time = 1000"
   ]
  },
  {
   "cell_type": "code",
   "execution_count": 1,
   "id": "c037935c-5ea9-46eb-881a-6592a8bd150d",
   "metadata": {},
   "outputs": [],
   "source": [
    "addpath('phd_work/projects/non-axisymmetric-hair/new_data/loc11/SpaceDAT')\n",
    "%addpath('phd_work/projects/non-axisymmetric-hair/old_data/loc11')\n",
    "\n",
    "Psi0_gpu1 = load('Psi0_101000.dat'); %-- data at fixed r*\n",
    "Psi0_gpu2 = load('Psi0_201000.dat');\n",
    "Psi0_gpu3 = load('Psi0_301000.dat');\n",
    "Psi0_gpu4 = load('Psi0_401000.dat');\n",
    "\n",
    "Psi4_gpu1 = load('Psi4_101000.dat');\n",
    "Psi4_gpu2 = load('Psi4_201000.dat');\n",
    "Psi4_gpu3 = load('Psi4_301000.dat');\n",
    "Psi4_gpu4 = load('Psi4_401000.dat');\n",
    "\n",
    "rho_infield = cat(1,Psi0_gpu1(:,1),Psi0_gpu2(:,1),Psi0_gpu3(:,1),Psi0_gpu4(:,1));\n",
    "real_infield = cat(1,Psi0_gpu1(:,2),Psi0_gpu2(:,2),Psi0_gpu3(:,2),Psi0_gpu4(:,2));\n",
    "imag_infield = cat(1,Psi0_gpu1(:,3),Psi0_gpu2(:,3),Psi0_gpu3(:,3),Psi0_gpu4(:,3));\n",
    "\n",
    "rho_outfield = cat(1,Psi4_gpu1(:,1),Psi4_gpu2(:,1),Psi4_gpu3(:,1),Psi4_gpu4(:,1));\n",
    "real_outfield = cat(1,Psi4_gpu1(:,2),Psi4_gpu2(:,2),Psi4_gpu3(:,2),Psi4_gpu4(:,2));\n",
    "imag_outfield = cat(1,Psi4_gpu1(:,3),Psi4_gpu2(:,3),Psi4_gpu3(:,3),Psi4_gpu4(:,3));\n",
    "\n",
    "rmpath('phd_work/projects/non-axisymmetric-hair/new_data/loc11/SpaceDAT')"
   ]
  },
  {
   "cell_type": "code",
   "execution_count": 2,
   "id": "72021794-5b44-4731-8851-62f08883a1d4",
   "metadata": {},
   "outputs": [],
   "source": [
    "M = 1;\n",
    "S = 19;\n",
    "time = 1000;\n",
    "rho_infield(end);\n",
    "r = rho_infield./(1 - rho_infield/S);\n",
    "r(1)-M;\n",
    "rho_infield(end-50:end);"
   ]
  },
  {
   "cell_type": "code",
   "execution_count": 3,
   "id": "5fb9b793-0331-4444-bb0a-fb1e754f33ff",
   "metadata": {},
   "outputs": [],
   "source": [
    "Psi0 = real_infield + 1i.*imag_infield;\n",
    "Psi4 = real_outfield + 1i.*imag_outfield;\n",
    "\n",
    "bbscalar = Psi0.*Psi4;\n",
    "indep_bbscalar_1000_11 = abs(bbscalar).*time.^2; % time-independent bbscalar\n"
   ]
  },
  {
   "cell_type": "code",
   "execution_count": 5,
   "id": "59c041a1-5309-4d2e-8d66-424ceb787bdf",
   "metadata": {
    "collapsed": true,
    "jupyter": {
     "outputs_hidden": true,
     "source_hidden": true
    },
    "tags": []
   },
   "outputs": [
    {
     "data": {
      "image/png": "[encoded data removed]"
     },
     "execution_count": 5,
     "metadata": {},
     "output_type": "execute_result"
    }
   ],
   "source": [
    "plot(r,indep_bbscalar_1000_11.*r.^-1.*(r-M).^1)\n",
    "hold on \n",
    "plot(r,indep_bbscalar_1000_11.*r.^-1.2.*(r-M).^1)\n",
    "plot(r,indep_bbscalar_1000_11.*r.^-1.4.*(r-M).^1)\n",
    "plot(r,indep_bbscalar_1000_11.*r.^-1.6.*(r-M).^1)\n",
    "plot(r,indep_bbscalar_1000_11.*r.^-0.8.*(r-M).^1)\n",
    "plot(r,indep_bbscalar_1000_11.*r.^-0.6.*(r-M).^1)\n",
    "plot(r,indep_bbscalar_1000_11.*r.^-0.4.*(r-M).^1)\n",
    "hold off\n",
    "xlim([-10,10])\n",
    "ylim([0,0.1])"
   ]
  },
  {
   "cell_type": "code",
   "execution_count": 6,
   "id": "32d68356-8828-4d8d-88fd-3099cf76d6ae",
   "metadata": {
    "collapsed": true,
    "jupyter": {
     "outputs_hidden": true,
     "source_hidden": true
    },
    "tags": []
   },
   "outputs": [
    {
     "data": {
      "image/png": "[encoded data removed]"
     },
     "execution_count": 6,
     "metadata": {},
     "output_type": "execute_result"
    }
   ],
   "source": [
    "plot(r,indep_bbscalar_1000_11.*r.^-1.*(r-M).^1)\n",
    "hold on \n",
    "plot(r,indep_bbscalar_1000_11.*r.^-1.*(r-M).^1.2)\n",
    "plot(r,indep_bbscalar_1000_11.*r.^-1.*(r-M).^1.4)\n",
    "plot(r,indep_bbscalar_1000_11.*r.^-1.*(r-M).^1.6)\n",
    "plot(r,indep_bbscalar_1000_11.*r.^-1.*(r-M).^0.8)\n",
    "plot(r,indep_bbscalar_1000_11.*r.^-1.*(r-M).^0.6)\n",
    "plot(r,indep_bbscalar_1000_11.*r.^-1.*(r-M).^0.4)\n",
    "hold off\n",
    "xlim([-10,10])\n",
    "ylim([0,0.1])"
   ]
  },
  {
   "cell_type": "code",
   "execution_count": 4,
   "id": "39fee3f8-516d-461c-a3e9-9a2ec0dae1c3",
   "metadata": {},
   "outputs": [],
   "source": [
    "oricoeff_1000_11 = indep_bbscalar_1000_11.*r.^-1.*(r-M).^1;"
   ]
  },
  {
   "cell_type": "markdown",
   "id": "9591a956-c142-4952-ac51-c029f4728791",
   "metadata": {},
   "source": [
    "## At time = 1200"
   ]
  },
  {
   "cell_type": "code",
   "execution_count": 5,
   "id": "6409e117-0cd7-44e3-8ef2-c3d05c460d9a",
   "metadata": {},
   "outputs": [],
   "source": [
    "addpath('phd_work/projects/non-axisymmetric-hair/new_data/loc11/SpaceDAT')\n",
    "%addpath('phd_work/projects/non-axisymmetric-hair/old_data/loc11')\n",
    "\n",
    "Psi0_gpu1 = load('Psi0_101200.dat'); %-- data at fixed r*\n",
    "Psi0_gpu2 = load('Psi0_201200.dat');\n",
    "Psi0_gpu3 = load('Psi0_301200.dat');\n",
    "Psi0_gpu4 = load('Psi0_401200.dat');\n",
    "\n",
    "Psi4_gpu1 = load('Psi4_101200.dat');\n",
    "Psi4_gpu2 = load('Psi4_201200.dat');\n",
    "Psi4_gpu3 = load('Psi4_301200.dat');\n",
    "Psi4_gpu4 = load('Psi4_401200.dat');\n",
    "\n",
    "rho_infield = cat(1,Psi0_gpu1(:,1),Psi0_gpu2(:,1),Psi0_gpu3(:,1),Psi0_gpu4(:,1));\n",
    "real_infield = cat(1,Psi0_gpu1(:,2),Psi0_gpu2(:,2),Psi0_gpu3(:,2),Psi0_gpu4(:,2));\n",
    "imag_infield = cat(1,Psi0_gpu1(:,3),Psi0_gpu2(:,3),Psi0_gpu3(:,3),Psi0_gpu4(:,3));\n",
    "\n",
    "rho_outfield = cat(1,Psi4_gpu1(:,1),Psi4_gpu2(:,1),Psi4_gpu3(:,1),Psi4_gpu4(:,1));\n",
    "real_outfield = cat(1,Psi4_gpu1(:,2),Psi4_gpu2(:,2),Psi4_gpu3(:,2),Psi4_gpu4(:,2));\n",
    "imag_outfield = cat(1,Psi4_gpu1(:,3),Psi4_gpu2(:,3),Psi4_gpu3(:,3),Psi4_gpu4(:,3));\n",
    "\n",
    "rmpath('phd_work/projects/non-axisymmetric-hair/new_data/loc11/SpaceDAT')"
   ]
  },
  {
   "cell_type": "code",
   "execution_count": 6,
   "id": "45eb41c9-e7b5-4d11-bdbe-5cb46d0ddf77",
   "metadata": {},
   "outputs": [],
   "source": [
    "M = 1;\n",
    "S = 19;\n",
    "time = 1200;\n",
    "rho_infield(end);\n",
    "r = rho_infield./(1 - rho_infield/S);\n",
    "r(1)-M;\n",
    "rho_infield(end-50:end);"
   ]
  },
  {
   "cell_type": "code",
   "execution_count": 7,
   "id": "00810d9d-91a5-423e-a639-d0103f281967",
   "metadata": {},
   "outputs": [],
   "source": [
    "Psi0 = real_infield + 1i.*imag_infield;\n",
    "Psi4 = real_outfield + 1i.*imag_outfield;\n",
    "\n",
    "bbscalar = Psi0.*Psi4;\n",
    "indep_bbscalar_1200_11 = abs(bbscalar).*time.^2; % time-independent bbscalar\n"
   ]
  },
  {
   "cell_type": "code",
   "execution_count": 12,
   "id": "50ce2646-6575-4489-85b7-67f6f4a38cf2",
   "metadata": {
    "collapsed": true,
    "jupyter": {
     "outputs_hidden": true,
     "source_hidden": true
    },
    "tags": []
   },
   "outputs": [
    {
     "data": {
      "image/png": "[encoded data removed]"
     },
     "execution_count": 12,
     "metadata": {},
     "output_type": "execute_result"
    }
   ],
   "source": [
    "plot(r,indep_bbscalar_1200_11.*r.^-1.*(r-M).^1)\n",
    "hold on \n",
    "plot(r,indep_bbscalar_1200_11.*r.^-1.2.*(r-M).^1)\n",
    "plot(r,indep_bbscalar_1200_11.*r.^-1.4.*(r-M).^1)\n",
    "plot(r,indep_bbscalar_1200_11.*r.^-1.6.*(r-M).^1)\n",
    "plot(r,indep_bbscalar_1200_11.*r.^-0.8.*(r-M).^1)\n",
    "plot(r,indep_bbscalar_1200_11.*r.^-0.6.*(r-M).^1)\n",
    "plot(r,indep_bbscalar_1200_11.*r.^-0.4.*(r-M).^1)\n",
    "hold off\n",
    "xlim([-100,1000])\n",
    "ylim([0,0.1])"
   ]
  },
  {
   "cell_type": "code",
   "execution_count": 15,
   "id": "beaa0fc4-8981-4081-8a7e-0021274ba3b1",
   "metadata": {
    "collapsed": true,
    "jupyter": {
     "outputs_hidden": true,
     "source_hidden": true
    },
    "tags": []
   },
   "outputs": [
    {
     "data": {
      "image/png": "[encoded data removed]"
     },
     "execution_count": 15,
     "metadata": {},
     "output_type": "execute_result"
    }
   ],
   "source": [
    "plot(r,indep_bbscalar_1200_11.*r.^-1.*(r-M).^1)\n",
    "hold on \n",
    "plot(r,indep_bbscalar_1200_11.*r.^-1.*(r-M).^1.2)\n",
    "plot(r,indep_bbscalar_1200_11.*r.^-1.*(r-M).^1.4)\n",
    "plot(r,indep_bbscalar_1200_11.*r.^-1.*(r-M).^1.6)\n",
    "plot(r,indep_bbscalar_1200_11.*r.^-1.*(r-M).^0.8)\n",
    "plot(r,indep_bbscalar_1200_11.*r.^-1.*(r-M).^0.6)\n",
    "plot(r,indep_bbscalar_1200_11.*r.^-1.*(r-M).^0.4)\n",
    "hold off\n",
    "xlim([-5,100])\n",
    "ylim([0,0.15])"
   ]
  },
  {
   "cell_type": "code",
   "execution_count": 8,
   "id": "40a36038-9088-4ded-9d17-f7f5058a5088",
   "metadata": {},
   "outputs": [],
   "source": [
    "oricoeff_1200_11 = indep_bbscalar_1200_11.*r.^-1.*(r-M).^1;"
   ]
  },
  {
   "cell_type": "markdown",
   "id": "c69d99a0-295f-46d6-8b22-885eaf9d0e62",
   "metadata": {},
   "source": [
    "## At time = 1400"
   ]
  },
  {
   "cell_type": "code",
   "execution_count": 9,
   "id": "5043285d-16a7-4d42-a52f-3c75bdb3e426",
   "metadata": {},
   "outputs": [],
   "source": [
    "addpath('phd_work/projects/non-axisymmetric-hair/new_data/loc11/SpaceDAT')\n",
    "%addpath('phd_work/projects/non-axisymmetric-hair/old_data/loc11')\n",
    "\n",
    "Psi0_gpu1 = load('Psi0_101400.dat'); %-- data at fixed r*\n",
    "Psi0_gpu2 = load('Psi0_201400.dat');\n",
    "Psi0_gpu3 = load('Psi0_301400.dat');\n",
    "Psi0_gpu4 = load('Psi0_401400.dat');\n",
    "\n",
    "Psi4_gpu1 = load('Psi4_101400.dat');\n",
    "Psi4_gpu2 = load('Psi4_201400.dat');\n",
    "Psi4_gpu3 = load('Psi4_301400.dat');\n",
    "Psi4_gpu4 = load('Psi4_401400.dat');\n",
    "\n",
    "rho_infield = cat(1,Psi0_gpu1(:,1),Psi0_gpu2(:,1),Psi0_gpu3(:,1),Psi0_gpu4(:,1));\n",
    "real_infield = cat(1,Psi0_gpu1(:,2),Psi0_gpu2(:,2),Psi0_gpu3(:,2),Psi0_gpu4(:,2));\n",
    "imag_infield = cat(1,Psi0_gpu1(:,3),Psi0_gpu2(:,3),Psi0_gpu3(:,3),Psi0_gpu4(:,3));\n",
    "\n",
    "rho_outfield = cat(1,Psi4_gpu1(:,1),Psi4_gpu2(:,1),Psi4_gpu3(:,1),Psi4_gpu4(:,1));\n",
    "real_outfield = cat(1,Psi4_gpu1(:,2),Psi4_gpu2(:,2),Psi4_gpu3(:,2),Psi4_gpu4(:,2));\n",
    "imag_outfield = cat(1,Psi4_gpu1(:,3),Psi4_gpu2(:,3),Psi4_gpu3(:,3),Psi4_gpu4(:,3));\n",
    "\n",
    "rmpath('phd_work/projects/non-axisymmetric-hair/new_data/loc11/SpaceDAT')"
   ]
  },
  {
   "cell_type": "code",
   "execution_count": 10,
   "id": "f4964887-f327-4493-898a-141300558bd7",
   "metadata": {},
   "outputs": [],
   "source": [
    "M = 1;\n",
    "S = 19;\n",
    "time = 1400;\n",
    "rho_infield(end);\n",
    "r = rho_infield./(1 - rho_infield/S);\n",
    "r(1)-M;\n",
    "rho_infield(end-50:end);"
   ]
  },
  {
   "cell_type": "code",
   "execution_count": 11,
   "id": "95d739f1-bd65-48c0-aff1-87d15726bf16",
   "metadata": {},
   "outputs": [],
   "source": [
    "Psi0 = real_infield + 1i.*imag_infield;\n",
    "Psi4 = real_outfield + 1i.*imag_outfield;\n",
    "\n",
    "bbscalar = Psi0.*Psi4;\n",
    "indep_bbscalar_1400_11 = abs(bbscalar).*time.^2; % time-independent bbscalar\n"
   ]
  },
  {
   "cell_type": "code",
   "execution_count": 21,
   "id": "d564fd0a-cfc0-43bf-9b71-9d4eb26a914a",
   "metadata": {
    "collapsed": true,
    "jupyter": {
     "outputs_hidden": true,
     "source_hidden": true
    },
    "tags": []
   },
   "outputs": [
    {
     "data": {
      "image/png": "[encoded data removed]"
     },
     "execution_count": 21,
     "metadata": {},
     "output_type": "execute_result"
    }
   ],
   "source": [
    "plot(r,indep_bbscalar_1400_11.*r.^-1.*(r-M).^1)\n",
    "hold on \n",
    "plot(r,indep_bbscalar_1400_11.*r.^-1.2.*(r-M).^1)\n",
    "plot(r,indep_bbscalar_1400_11.*r.^-1.4.*(r-M).^1)\n",
    "plot(r,indep_bbscalar_1400_11.*r.^-1.6.*(r-M).^1)\n",
    "plot(r,indep_bbscalar_1400_11.*r.^-0.8.*(r-M).^1)\n",
    "plot(r,indep_bbscalar_1400_11.*r.^-0.6.*(r-M).^1)\n",
    "plot(r,indep_bbscalar_1400_11.*r.^-0.4.*(r-M).^1)\n",
    "hold off\n",
    "xlim([-10,100])\n",
    "ylim([0,0.15])"
   ]
  },
  {
   "cell_type": "code",
   "execution_count": 25,
   "id": "55f9485c-adb5-44a1-b392-feee699ac198",
   "metadata": {
    "collapsed": true,
    "jupyter": {
     "outputs_hidden": true,
     "source_hidden": true
    },
    "tags": []
   },
   "outputs": [
    {
     "data": {
      "image/png": "[encoded data removed]"
     },
     "execution_count": 25,
     "metadata": {},
     "output_type": "execute_result"
    }
   ],
   "source": [
    "plot(r,indep_bbscalar_1400_11.*r.^-1.*(r-M).^1)\n",
    "hold on \n",
    "plot(r,indep_bbscalar_1400_11.*r.^-1.*(r-M).^1.2)\n",
    "plot(r,indep_bbscalar_1400_11.*r.^-1.*(r-M).^1.4)\n",
    "plot(r,indep_bbscalar_1400_11.*r.^-1.*(r-M).^1.6)\n",
    "plot(r,indep_bbscalar_1400_11.*r.^-1.*(r-M).^0.8)\n",
    "plot(r,indep_bbscalar_1400_11.*r.^-1.*(r-M).^0.6)\n",
    "plot(r,indep_bbscalar_1400_11.*r.^-1.*(r-M).^0.4)\n",
    "hold off\n",
    "xlim([-5,100])\n",
    "ylim([0,0.15])"
   ]
  },
  {
   "cell_type": "code",
   "execution_count": 12,
   "id": "97e0837f-0c66-4906-a2cd-951c1a102a6b",
   "metadata": {},
   "outputs": [],
   "source": [
    "oricoeff_1400_11 = indep_bbscalar_1400_11.*r.^-1.*(r-M).^1;"
   ]
  },
  {
   "cell_type": "markdown",
   "id": "347d23c9-2b6c-49f6-b823-ab3fc9bd755d",
   "metadata": {},
   "source": [
    "## At time = 1600"
   ]
  },
  {
   "cell_type": "code",
   "execution_count": null,
   "id": "4e79823a-08c1-4310-b23d-30e5ba030719",
   "metadata": {
    "jupyter": {
     "source_hidden": true
    },
    "tags": []
   },
   "outputs": [],
   "source": [
    "addpath('phd_work/projects/non-axisymmetric-hair/new_data/loc11/SpaceDAT')\n",
    "%addpath('phd_work/projects/non-axisymmetric-hair/old_data/loc11')\n",
    "\n",
    "Psi0_gpu1 = load('Psi0_101600.dat'); %-- data at fixed r*\n",
    "Psi0_gpu2 = load('Psi0_201600.dat');\n",
    "Psi0_gpu3 = load('Psi0_301600.dat');\n",
    "Psi0_gpu4 = load('Psi0_401600.dat');\n",
    "\n",
    "Psi4_gpu1 = load('Psi4_101600.dat');\n",
    "Psi4_gpu2 = load('Psi4_201600.dat');\n",
    "Psi4_gpu3 = load('Psi4_301600.dat');\n",
    "Psi4_gpu4 = load('Psi4_401600.dat');\n",
    "\n",
    "rho_infield = cat(1,Psi0_gpu1(:,1),Psi0_gpu2(:,1),Psi0_gpu3(:,1),Psi0_gpu4(:,1));\n",
    "real_infield = cat(1,Psi0_gpu1(:,2),Psi0_gpu2(:,2),Psi0_gpu3(:,2),Psi0_gpu4(:,2));\n",
    "imag_infield = cat(1,Psi0_gpu1(:,3),Psi0_gpu2(:,3),Psi0_gpu3(:,3),Psi0_gpu4(:,3));\n",
    "\n",
    "rho_outfield = cat(1,Psi4_gpu1(:,1),Psi4_gpu2(:,1),Psi4_gpu3(:,1),Psi4_gpu4(:,1));\n",
    "real_outfield = cat(1,Psi4_gpu1(:,2),Psi4_gpu2(:,2),Psi4_gpu3(:,2),Psi4_gpu4(:,2));\n",
    "imag_outfield = cat(1,Psi4_gpu1(:,3),Psi4_gpu2(:,3),Psi4_gpu3(:,3),Psi4_gpu4(:,3));\n",
    "\n",
    "rmpath('phd_work/projects/non-axisymmetric-hair/new_data/loc11/SpaceDAT')"
   ]
  },
  {
   "cell_type": "code",
   "execution_count": null,
   "id": "fe73332f-29b3-4c92-baf9-1ef66de37140",
   "metadata": {
    "jupyter": {
     "source_hidden": true
    },
    "tags": []
   },
   "outputs": [],
   "source": [
    "M = 1;\n",
    "S = 19;\n",
    "time = 1200;\n",
    "rho_infield(end);\n",
    "r = rho_infield./(1 - rho_infield/S)\n",
    "r(1)-M;\n",
    "rho_infield(end-50:end);"
   ]
  },
  {
   "cell_type": "code",
   "execution_count": null,
   "id": "ed2e7087-d0c2-4b5c-82e1-d0ffbbf4deae",
   "metadata": {
    "jupyter": {
     "source_hidden": true
    },
    "tags": []
   },
   "outputs": [],
   "source": [
    "Psi0 = real_infield + 1i.*imag_infield;\n",
    "Psi4 = real_outfield + 1i.*imag_outfield;\n",
    "\n",
    "bbscalar = Psi0.*Psi4;\n",
    "indep_bbscalar = abs(bbscalar).*time.^2; % time-independent bbscalar\n",
    "indep_bbscalar_1000 = indep_bbscalar;"
   ]
  },
  {
   "cell_type": "code",
   "execution_count": null,
   "id": "a7d75d41-9cd3-4124-a3d0-f3a39a180d43",
   "metadata": {
    "jupyter": {
     "source_hidden": true
    },
    "tags": []
   },
   "outputs": [],
   "source": [
    "plot(r,indep_bbscalar_1000.*r.^0.*(1-M./r).^1)\n",
    "hold on \n",
    "plot(r,indep_bbscalar_1000.*r.^(0.2).*(1-M./r).^1)\n",
    "plot(r,indep_bbscalar_1000.*r.^(0.4).*(1-M./r).^1)\n",
    "plot(r,indep_bbscalar_1000.*r.^(0.6).*(1-M./r).^1)\n",
    "plot(r,indep_bbscalar_1000.*r.^(-0.2).*(1-M./r).^1)\n",
    "plot(r,indep_bbscalar_1000.*r.^(-0.4).*(1-M./r).^1)\n",
    "plot(r,indep_bbscalar_1000.*r.^(-0.6).*(1-M./r).^1)\n",
    "hold off\n",
    "xlim([-10,100])\n",
    "ylim([0,0.15])"
   ]
  },
  {
   "cell_type": "code",
   "execution_count": null,
   "id": "d7dc5357-6ce2-43b7-805c-448f20188458",
   "metadata": {
    "jupyter": {
     "source_hidden": true
    },
    "tags": []
   },
   "outputs": [],
   "source": [
    "plot(r,indep_bbscalar_1000.*r.^0.*(1-M./r).^1)\n",
    "hold on \n",
    "plot(r,indep_bbscalar_1000.*r.^0.*(1-M./r).^1.2)\n",
    "plot(r,indep_bbscalar_1000.*r.^0.*(1-M./r).^1.4)\n",
    "plot(r,indep_bbscalar_1000.*r.^0.*(1-M./r).^1.6)\n",
    "plot(r,indep_bbscalar_1000.*r.^0.*(1-M./r).^0.8)\n",
    "plot(r,indep_bbscalar_1000.*r.^0.*(1-M./r).^0.6)\n",
    "plot(r,indep_bbscalar_1000.*r.^0.*(1-M./r).^0.4)\n",
    "hold off\n",
    "xlim([-5,10])\n",
    "ylim([0,0.15])"
   ]
  },
  {
   "cell_type": "code",
   "execution_count": 25,
   "id": "7d5d9965-c714-402d-b951-2b8f02f1a391",
   "metadata": {},
   "outputs": [
    {
     "data": {
      "image/png": "[encoded data removed]"
     },
     "execution_count": 25,
     "metadata": {},
     "output_type": "execute_result"
    }
   ],
   "source": [
    "% Plotting all indep_bbscalars wrt r for times 1000,1200,1400\n",
    "plot(r,indep_bbscalar_1000.*r.^-1.*(r-M).^1)\n",
    "hold on \n",
    "plot(r,indep_bbscalar_1200.*r.^-1.*(r-M).^1)\n",
    "plot(r,indep_bbscalar_1400.*r.^-1.*(r-M).^1)\n",
    "hold off\n",
    "xlim([-5,10000])\n",
    "ylim([0,0.15])"
   ]
  },
  {
   "cell_type": "markdown",
   "id": "023a4427-d430-4fc2-a409-3256a9d4e4cb",
   "metadata": {},
   "source": [
    "## Gaussian with center 1.2"
   ]
  },
  {
   "cell_type": "markdown",
   "id": "0457ac10-9ec5-4785-ab1d-6a486fe9ba20",
   "metadata": {},
   "source": [
    "## At time = 1000"
   ]
  },
  {
   "cell_type": "code",
   "execution_count": 13,
   "id": "411b78e0-6a1a-405b-8d2c-d7a410c72db3",
   "metadata": {},
   "outputs": [],
   "source": [
    "addpath('phd_work/projects/non-axisymmetric-hair/new_data/loc12/SpaceDAT')\n",
    "\n",
    "Psi0_gpu1 = load('Psi0_101000.dat'); %-- data at fixed r*\n",
    "Psi0_gpu2 = load('Psi0_201000.dat');\n",
    "Psi0_gpu3 = load('Psi0_301000.dat');\n",
    "Psi0_gpu4 = load('Psi0_401000.dat');\n",
    "\n",
    "Psi4_gpu1 = load('Psi4_101000.dat');\n",
    "Psi4_gpu2 = load('Psi4_201000.dat');\n",
    "Psi4_gpu3 = load('Psi4_301000.dat');\n",
    "Psi4_gpu4 = load('Psi4_401000.dat');\n",
    "\n",
    "rho_infield = cat(1,Psi0_gpu1(:,1),Psi0_gpu2(:,1),Psi0_gpu3(:,1),Psi0_gpu4(:,1));\n",
    "real_infield = cat(1,Psi0_gpu1(:,2),Psi0_gpu2(:,2),Psi0_gpu3(:,2),Psi0_gpu4(:,2));\n",
    "imag_infield = cat(1,Psi0_gpu1(:,3),Psi0_gpu2(:,3),Psi0_gpu3(:,3),Psi0_gpu4(:,3));\n",
    "\n",
    "rho_outfield = cat(1,Psi4_gpu1(:,1),Psi4_gpu2(:,1),Psi4_gpu3(:,1),Psi4_gpu4(:,1));\n",
    "real_outfield = cat(1,Psi4_gpu1(:,2),Psi4_gpu2(:,2),Psi4_gpu3(:,2),Psi4_gpu4(:,2));\n",
    "imag_outfield = cat(1,Psi4_gpu1(:,3),Psi4_gpu2(:,3),Psi4_gpu3(:,3),Psi4_gpu4(:,3));\n",
    "\n",
    "rmpath('phd_work/projects/non-axisymmetric-hair/new_data/loc12/SpaceDAT')"
   ]
  },
  {
   "cell_type": "code",
   "execution_count": 14,
   "id": "4c9203ca-439a-4540-9c88-7f1ad7f8718c",
   "metadata": {},
   "outputs": [],
   "source": [
    "M = 1;\n",
    "S = 19;\n",
    "time = 1000;\n",
    "rho_infield(end);\n",
    "r = rho_infield./(1 - rho_infield/S);\n",
    "r(1)-M;\n",
    "rho_infield(end-50:end);"
   ]
  },
  {
   "cell_type": "code",
   "execution_count": 15,
   "id": "73f97737-bdae-446a-b1e5-82470c8de1f1",
   "metadata": {},
   "outputs": [],
   "source": [
    "Psi0 = real_infield + 1i.*imag_infield;\n",
    "Psi4 = real_outfield + 1i.*imag_outfield;\n",
    "\n",
    "bbscalar = Psi0.*Psi4;\n",
    "indep_bbscalar_1000_12 = abs(bbscalar).*time.^2; % time-independent bbscalar\n"
   ]
  },
  {
   "cell_type": "code",
   "execution_count": 8,
   "id": "6ca244ac-47ed-42e7-9790-fd564c1ea9b0",
   "metadata": {
    "collapsed": true,
    "jupyter": {
     "outputs_hidden": true,
     "source_hidden": true
    },
    "tags": []
   },
   "outputs": [
    {
     "data": {
      "image/png": "[encoded data removed]"
     },
     "execution_count": 8,
     "metadata": {},
     "output_type": "execute_result"
    }
   ],
   "source": [
    "plot(r,indep_bbscalar_1000_12.*r.^-1.*(r-M).^1)\n",
    "hold on \n",
    "plot(r,indep_bbscalar_1000_12.*r.^-1.2.*(r-M).^1)\n",
    "plot(r,indep_bbscalar_1000_12.*r.^-1.4.*(r-M).^1)\n",
    "plot(r,indep_bbscalar_1000_12.*r.^-1.6.*(r-M).^1)\n",
    "plot(r,indep_bbscalar_1000_12.*r.^-0.8.*(r-M).^1)\n",
    "plot(r,indep_bbscalar_1000_12.*r.^-0.6.*(r-M).^1)\n",
    "plot(r,indep_bbscalar_1000_12.*r.^-0.4.*(r-M).^1)\n",
    "hold off\n",
    "xlim([-10,10])\n",
    "ylim([0,0.15])"
   ]
  },
  {
   "cell_type": "code",
   "execution_count": 9,
   "id": "bd84918d-44fd-4a80-ae48-1cb3d77b3743",
   "metadata": {
    "collapsed": true,
    "jupyter": {
     "outputs_hidden": true,
     "source_hidden": true
    },
    "tags": []
   },
   "outputs": [
    {
     "data": {
      "image/png": "[encoded data removed]"
     },
     "execution_count": 9,
     "metadata": {},
     "output_type": "execute_result"
    }
   ],
   "source": [
    "plot(r,indep_bbscalar_1000_12.*r.^-1.*(r-M).^1)\n",
    "hold on \n",
    "plot(r,indep_bbscalar_1000_12.*r.^-1.*(r-M).^1.2)\n",
    "plot(r,indep_bbscalar_1000_12.*r.^-1.*(r-M).^1.4)\n",
    "plot(r,indep_bbscalar_1000_12.*r.^-1.*(r-M).^1.6)\n",
    "plot(r,indep_bbscalar_1000_12.*r.^-1.*(r-M).^0.8)\n",
    "plot(r,indep_bbscalar_1000_12.*r.^-1.*(r-M).^0.6)\n",
    "plot(r,indep_bbscalar_1000_12.*r.^-1.*(r-M).^0.4)\n",
    "hold off\n",
    "xlim([-10,10])\n",
    "ylim([0,0.15])"
   ]
  },
  {
   "cell_type": "code",
   "execution_count": 16,
   "id": "4a76d512-98e5-4d21-b496-b26b70079c68",
   "metadata": {},
   "outputs": [],
   "source": [
    "oricoeff_1000_12 = indep_bbscalar_1000_12.*r.^-1.*(r-M).^1;"
   ]
  },
  {
   "cell_type": "markdown",
   "id": "463cc1ea-3404-49d6-900d-dcbbb6e94d8f",
   "metadata": {},
   "source": [
    "## At time = 1200"
   ]
  },
  {
   "cell_type": "code",
   "execution_count": 17,
   "id": "f32a1b08-cda1-4194-a469-25a93a527bd5",
   "metadata": {},
   "outputs": [],
   "source": [
    "addpath('phd_work/projects/non-axisymmetric-hair/new_data/loc12/SpaceDAT')\n",
    "\n",
    "Psi0_gpu1 = load('Psi0_101200.dat'); %-- data at fixed r*\n",
    "Psi0_gpu2 = load('Psi0_201200.dat');\n",
    "Psi0_gpu3 = load('Psi0_301200.dat');\n",
    "Psi0_gpu4 = load('Psi0_401200.dat');\n",
    "\n",
    "Psi4_gpu1 = load('Psi4_101200.dat');\n",
    "Psi4_gpu2 = load('Psi4_201200.dat');\n",
    "Psi4_gpu3 = load('Psi4_301200.dat');\n",
    "Psi4_gpu4 = load('Psi4_401200.dat');\n",
    "\n",
    "rho_infield = cat(1,Psi0_gpu1(:,1),Psi0_gpu2(:,1),Psi0_gpu3(:,1),Psi0_gpu4(:,1));\n",
    "real_infield = cat(1,Psi0_gpu1(:,2),Psi0_gpu2(:,2),Psi0_gpu3(:,2),Psi0_gpu4(:,2));\n",
    "imag_infield = cat(1,Psi0_gpu1(:,3),Psi0_gpu2(:,3),Psi0_gpu3(:,3),Psi0_gpu4(:,3));\n",
    "\n",
    "rho_outfield = cat(1,Psi4_gpu1(:,1),Psi4_gpu2(:,1),Psi4_gpu3(:,1),Psi4_gpu4(:,1));\n",
    "real_outfield = cat(1,Psi4_gpu1(:,2),Psi4_gpu2(:,2),Psi4_gpu3(:,2),Psi4_gpu4(:,2));\n",
    "imag_outfield = cat(1,Psi4_gpu1(:,3),Psi4_gpu2(:,3),Psi4_gpu3(:,3),Psi4_gpu4(:,3));\n",
    "\n",
    "rmpath('phd_work/projects/non-axisymmetric-hair/new_data/loc12/SpaceDAT')"
   ]
  },
  {
   "cell_type": "code",
   "execution_count": 18,
   "id": "b428ed80-678b-4212-a773-2957740787df",
   "metadata": {},
   "outputs": [],
   "source": [
    "M = 1;\n",
    "S = 19;\n",
    "time = 1200;\n",
    "rho_infield(end);\n",
    "r = rho_infield./(1 - rho_infield/S);\n",
    "r(1)-M;\n",
    "rho_infield(end-50:end);"
   ]
  },
  {
   "cell_type": "code",
   "execution_count": 19,
   "id": "ceb52d39-dd7d-4de6-8756-f7a71082e444",
   "metadata": {},
   "outputs": [],
   "source": [
    "Psi0 = real_infield + 1i.*imag_infield;\n",
    "Psi4 = real_outfield + 1i.*imag_outfield;\n",
    "\n",
    "bbscalar = Psi0.*Psi4;\n",
    "indep_bbscalar_1200_12 = abs(bbscalar).*time.^2; % time-independent bbscalar\n"
   ]
  },
  {
   "cell_type": "code",
   "execution_count": 14,
   "id": "02078c3f-8f6a-460e-8864-0ea18366ba89",
   "metadata": {
    "collapsed": true,
    "jupyter": {
     "outputs_hidden": true,
     "source_hidden": true
    },
    "tags": []
   },
   "outputs": [
    {
     "data": {
      "image/png": "[encoded data removed]"
     },
     "execution_count": 14,
     "metadata": {},
     "output_type": "execute_result"
    }
   ],
   "source": [
    "plot(r,indep_bbscalar_1200_12.*r.^-1.*(r-M).^1)\n",
    "hold on \n",
    "plot(r,indep_bbscalar_1200_12.*r.^-1.2.*(r-M).^1)\n",
    "plot(r,indep_bbscalar_1200_12.*r.^-1.4.*(r-M).^1)\n",
    "plot(r,indep_bbscalar_1200_12.*r.^-1.6.*(r-M).^1)\n",
    "plot(r,indep_bbscalar_1200_12.*r.^-0.8.*(r-M).^1)\n",
    "plot(r,indep_bbscalar_1200_12.*r.^-0.6.*(r-M).^1)\n",
    "plot(r,indep_bbscalar_1200_12.*r.^-0.4.*(r-M).^1)\n",
    "hold off\n",
    "xlim([-100,1000])\n",
    "ylim([0,0.15])"
   ]
  },
  {
   "cell_type": "code",
   "execution_count": 15,
   "id": "795c35b9-9d1f-4c26-9108-0e98951b2a7e",
   "metadata": {
    "collapsed": true,
    "jupyter": {
     "outputs_hidden": true,
     "source_hidden": true
    },
    "tags": []
   },
   "outputs": [
    {
     "data": {
      "image/png": "[encoded data removed]"
     },
     "execution_count": 15,
     "metadata": {},
     "output_type": "execute_result"
    }
   ],
   "source": [
    "plot(r,indep_bbscalar_1200_12.*r.^-1.*(r-M).^1)\n",
    "hold on \n",
    "plot(r,indep_bbscalar_1200_12.*r.^-1.*(r-M).^1.2)\n",
    "plot(r,indep_bbscalar_1200_12.*r.^-1.*(r-M).^1.4)\n",
    "plot(r,indep_bbscalar_1200_12.*r.^-1.*(r-M).^1.6)\n",
    "plot(r,indep_bbscalar_1200_12.*r.^-1.*(r-M).^0.8)\n",
    "plot(r,indep_bbscalar_1200_12.*r.^-1.*(r-M).^0.6)\n",
    "plot(r,indep_bbscalar_1200_12.*r.^-1.*(r-M).^0.4)\n",
    "hold off\n",
    "xlim([-5,100])\n",
    "ylim([0,0.15])"
   ]
  },
  {
   "cell_type": "code",
   "execution_count": 20,
   "id": "a984365d-323e-4447-8137-9a9d1c778b90",
   "metadata": {},
   "outputs": [],
   "source": [
    "oricoeff_1200_12 = indep_bbscalar_1200_12.*r.^-1.*(r-M).^1;"
   ]
  },
  {
   "cell_type": "markdown",
   "id": "98bb1c34-77ea-44d1-b7e4-c246fac5bae0",
   "metadata": {},
   "source": [
    "## At time = 1400"
   ]
  },
  {
   "cell_type": "code",
   "execution_count": 21,
   "id": "ed6d453c-f6d2-4761-98bf-5fb48c0cc5c1",
   "metadata": {},
   "outputs": [],
   "source": [
    "addpath('phd_work/projects/non-axisymmetric-hair/new_data/loc12/SpaceDAT')\n",
    "\n",
    "Psi0_gpu1 = load('Psi0_101400.dat'); %-- data at fixed r*\n",
    "Psi0_gpu2 = load('Psi0_201400.dat');\n",
    "Psi0_gpu3 = load('Psi0_301400.dat');\n",
    "Psi0_gpu4 = load('Psi0_401400.dat');\n",
    "\n",
    "Psi4_gpu1 = load('Psi4_101400.dat');\n",
    "Psi4_gpu2 = load('Psi4_201400.dat');\n",
    "Psi4_gpu3 = load('Psi4_301400.dat');\n",
    "Psi4_gpu4 = load('Psi4_401400.dat');\n",
    "\n",
    "rho_infield = cat(1,Psi0_gpu1(:,1),Psi0_gpu2(:,1),Psi0_gpu3(:,1),Psi0_gpu4(:,1));\n",
    "real_infield = cat(1,Psi0_gpu1(:,2),Psi0_gpu2(:,2),Psi0_gpu3(:,2),Psi0_gpu4(:,2));\n",
    "imag_infield = cat(1,Psi0_gpu1(:,3),Psi0_gpu2(:,3),Psi0_gpu3(:,3),Psi0_gpu4(:,3));\n",
    "\n",
    "rho_outfield = cat(1,Psi4_gpu1(:,1),Psi4_gpu2(:,1),Psi4_gpu3(:,1),Psi4_gpu4(:,1));\n",
    "real_outfield = cat(1,Psi4_gpu1(:,2),Psi4_gpu2(:,2),Psi4_gpu3(:,2),Psi4_gpu4(:,2));\n",
    "imag_outfield = cat(1,Psi4_gpu1(:,3),Psi4_gpu2(:,3),Psi4_gpu3(:,3),Psi4_gpu4(:,3));\n",
    "\n",
    "rmpath('phd_work/projects/non-axisymmetric-hair/new_data/loc12/SpaceDAT')"
   ]
  },
  {
   "cell_type": "code",
   "execution_count": 22,
   "id": "e708486e-04c2-42ae-8128-b59f54200e24",
   "metadata": {},
   "outputs": [
    {
     "data": {
      "text/html": [
       "<html><body><pre>ans = 51x1 double\n",
       "   18.3021\n",
       "   18.3159\n",
       "   18.3296\n",
       "   18.3434\n",
       "   18.3572\n",
       "   18.3709\n",
       "   18.3847\n",
       "   18.3985\n",
       "   18.4123\n",
       "   18.4260\n",
       "...</pre></body></html>"
      ],
      "text/plain": [
       "ans = 51x1 double\n",
       "   18.3021\n",
       "   18.3159\n",
       "   18.3296\n",
       "   18.3434\n",
       "   18.3572\n",
       "   18.3709\n",
       "   18.3847\n",
       "   18.3985\n",
       "   18.4123\n",
       "   18.4260\n",
       "..."
      ]
     },
     "execution_count": 22,
     "metadata": {},
     "output_type": "execute_result"
    }
   ],
   "source": [
    "M = 1;\n",
    "S = 19;\n",
    "time = 1400;\n",
    "rho_infield(end);\n",
    "r = rho_infield./(1 - rho_infield/S);\n",
    "r(1)-M;\n",
    "rho_infield(end-50:end)"
   ]
  },
  {
   "cell_type": "code",
   "execution_count": 23,
   "id": "cc99ebae-8fc3-448f-8400-081f5200ed4d",
   "metadata": {},
   "outputs": [],
   "source": [
    "Psi0 = real_infield + 1i.*imag_infield;\n",
    "Psi4 = real_outfield + 1i.*imag_outfield;\n",
    "\n",
    "bbscalar = Psi0.*Psi4;\n",
    "indep_bbscalar_1400_12 = abs(bbscalar).*time.^2; % time-independent bbscalar\n"
   ]
  },
  {
   "cell_type": "code",
   "execution_count": 20,
   "id": "5eb8d72e-1d70-42ae-bdd4-2aa55754335e",
   "metadata": {
    "collapsed": true,
    "jupyter": {
     "outputs_hidden": true,
     "source_hidden": true
    },
    "tags": []
   },
   "outputs": [
    {
     "data": {
      "image/png": "[encoded data removed]"
     },
     "execution_count": 20,
     "metadata": {},
     "output_type": "execute_result"
    }
   ],
   "source": [
    "plot(r,indep_bbscalar_1400_12.*r.^-1.*(r-M).^1)\n",
    "hold on \n",
    "plot(r,indep_bbscalar_1400_12.*r.^(-1.2).*(r-M).^1)\n",
    "plot(r,indep_bbscalar_1400_12.*r.^(-1.4).*(r-M).^1)\n",
    "plot(r,indep_bbscalar_1400_12.*r.^(-1.6).*(r-M).^1)\n",
    "plot(r,indep_bbscalar_1400_12.*r.^(-0.8).*(r-M).^1)\n",
    "plot(r,indep_bbscalar_1400_12.*r.^(-0.6).*(r-M).^1)\n",
    "plot(r,indep_bbscalar_1400_12.*r.^(-0.4).*(r-M).^1)\n",
    "hold off\n",
    "xlim([-10,100])\n",
    "ylim([0,0.15])"
   ]
  },
  {
   "cell_type": "code",
   "execution_count": 21,
   "id": "27528556-c914-490a-863c-3d39022f1049",
   "metadata": {
    "collapsed": true,
    "jupyter": {
     "outputs_hidden": true,
     "source_hidden": true
    },
    "tags": []
   },
   "outputs": [
    {
     "data": {
      "image/png": "[encoded data removed]"
     },
     "execution_count": 21,
     "metadata": {},
     "output_type": "execute_result"
    }
   ],
   "source": [
    "plot(r,indep_bbscalar_1400_12.*r.^-1.*(r-M).^1)\n",
    "hold on \n",
    "plot(r,indep_bbscalar_1400_12.*r.^-1.*(r-M).^1.2)\n",
    "plot(r,indep_bbscalar_1400_12.*r.^-1.*(r-M).^1.4)\n",
    "plot(r,indep_bbscalar_1400_12.*r.^-1.*(r-M).^1.6)\n",
    "plot(r,indep_bbscalar_1400_12.*r.^-1.*(r-M).^0.8)\n",
    "plot(r,indep_bbscalar_1400_12.*r.^-1.*(r-M).^0.6)\n",
    "plot(r,indep_bbscalar_1400_12.*r.^-1.*(r-M).^0.4)\n",
    "hold off\n",
    "xlim([-5,10])\n",
    "ylim([0,0.15])"
   ]
  },
  {
   "cell_type": "code",
   "execution_count": 24,
   "id": "b8dcd9f4-75db-4d95-b49a-20343aadf4f5",
   "metadata": {},
   "outputs": [],
   "source": [
    "oricoeff_1400_12 = indep_bbscalar_1400_12.*r.^-1.*(r-M).^1;"
   ]
  },
  {
   "cell_type": "markdown",
   "id": "5f86aabb-dc73-4876-9a1e-cc82f60be6b6",
   "metadata": {},
   "source": [
    "## Gaussian with center 1.3"
   ]
  },
  {
   "cell_type": "markdown",
   "id": "d594d280-d63b-4678-be2d-0f84a7510370",
   "metadata": {},
   "source": [
    "## At time = 1000"
   ]
  },
  {
   "cell_type": "code",
   "execution_count": 25,
   "id": "cd2057a9-3267-46b9-bb4a-614e4f045790",
   "metadata": {},
   "outputs": [],
   "source": [
    "addpath('phd_work/projects/non-axisymmetric-hair/new_data/loc13/SpaceDAT')\n",
    "\n",
    "Psi0_gpu1 = load('Psi0_101000.dat'); %-- data at fixed r*\n",
    "Psi0_gpu2 = load('Psi0_201000.dat');\n",
    "Psi0_gpu3 = load('Psi0_301000.dat');\n",
    "Psi0_gpu4 = load('Psi0_401000.dat');\n",
    "\n",
    "Psi4_gpu1 = load('Psi4_101000.dat');\n",
    "Psi4_gpu2 = load('Psi4_201000.dat');\n",
    "Psi4_gpu3 = load('Psi4_301000.dat');\n",
    "Psi4_gpu4 = load('Psi4_401000.dat');\n",
    "\n",
    "rho_infield = cat(1,Psi0_gpu1(:,1),Psi0_gpu2(:,1),Psi0_gpu3(:,1),Psi0_gpu4(:,1));\n",
    "real_infield = cat(1,Psi0_gpu1(:,2),Psi0_gpu2(:,2),Psi0_gpu3(:,2),Psi0_gpu4(:,2));\n",
    "imag_infield = cat(1,Psi0_gpu1(:,3),Psi0_gpu2(:,3),Psi0_gpu3(:,3),Psi0_gpu4(:,3));\n",
    "\n",
    "rho_outfield = cat(1,Psi4_gpu1(:,1),Psi4_gpu2(:,1),Psi4_gpu3(:,1),Psi4_gpu4(:,1));\n",
    "real_outfield = cat(1,Psi4_gpu1(:,2),Psi4_gpu2(:,2),Psi4_gpu3(:,2),Psi4_gpu4(:,2));\n",
    "imag_outfield = cat(1,Psi4_gpu1(:,3),Psi4_gpu2(:,3),Psi4_gpu3(:,3),Psi4_gpu4(:,3));\n",
    "\n",
    "rmpath('phd_work/projects/non-axisymmetric-hair/new_data/loc13/SpaceDAT')"
   ]
  },
  {
   "cell_type": "code",
   "execution_count": 26,
   "id": "233d265e-8bb0-4948-8ff0-96055f5726b4",
   "metadata": {},
   "outputs": [],
   "source": [
    "M = 1;\n",
    "S = 19;\n",
    "time = 1000;\n",
    "rho_infield(end);\n",
    "r = rho_infield./(1 - rho_infield/S);\n",
    "r(1)-M;\n",
    "rho_infield(end-50:end);"
   ]
  },
  {
   "cell_type": "code",
   "execution_count": 27,
   "id": "7cab6662-f2e7-4b1e-a63e-6fb8baa2feb5",
   "metadata": {},
   "outputs": [],
   "source": [
    "Psi0 = real_infield + 1i.*imag_infield;\n",
    "Psi4 = real_outfield + 1i.*imag_outfield;\n",
    "\n",
    "bbscalar = Psi0.*Psi4;\n",
    "indep_bbscalar_1000_13= abs(bbscalar).*time.^2; % time-independent bbscalar\n"
   ]
  },
  {
   "cell_type": "code",
   "execution_count": 30,
   "id": "019e6291-68bd-4513-aa81-5c3bb0d014d8",
   "metadata": {
    "tags": []
   },
   "outputs": [
    {
     "data": {
      "image/png": "[encoded data removed]"
     },
     "execution_count": 30,
     "metadata": {},
     "output_type": "execute_result"
    }
   ],
   "source": [
    "plot(r,indep_bbscalar_1000_13.*r.^-1.*(r-M).^1)\n",
    "hold on \n",
    "plot(r,indep_bbscalar_1000_13.*r.^-1.2.*(r-M).^1)\n",
    "plot(r,indep_bbscalar_1000_13.*r.^-1.4.*(r-M).^1)\n",
    "plot(r,indep_bbscalar_1000_13.*r.^-1.6.*(r-M).^1)\n",
    "plot(r,indep_bbscalar_1000_13.*r.^-0.8.*(r-M).^1)\n",
    "plot(r,indep_bbscalar_1000_13.*r.^-0.6.*(r-M).^1)\n",
    "plot(r,indep_bbscalar_1000_13.*r.^-0.4.*(r-M).^1)\n",
    "hold off\n",
    "xlim([-10,100])\n",
    "ylim([0,0.15])"
   ]
  },
  {
   "cell_type": "code",
   "execution_count": 33,
   "id": "ea07d401-e9cf-49bf-8773-240c637c0f31",
   "metadata": {
    "collapsed": true,
    "jupyter": {
     "outputs_hidden": true
    },
    "tags": []
   },
   "outputs": [
    {
     "data": {
      "image/png": "[encoded data removed]"
     },
     "execution_count": 33,
     "metadata": {},
     "output_type": "execute_result"
    }
   ],
   "source": [
    "plot(r,indep_bbscalar_1000_13.*r.^-1.*(r-M).^1)\n",
    "hold on \n",
    "plot(r,indep_bbscalar_1000_13.*r.^-1.*(r-M).^1.2)\n",
    "plot(r,indep_bbscalar_1000_13.*r.^-1.*(r-M).^1.4)\n",
    "plot(r,indep_bbscalar_1000_13.*r.^-1.*(r-M).^1.6)\n",
    "plot(r,indep_bbscalar_1000_13.*r.^-1.*(r-M).^0.8)\n",
    "plot(r,indep_bbscalar_1000_13.*r.^-1.*(r-M).^0.6)\n",
    "plot(r,indep_bbscalar_1000_13.*r.^-1.*(r-M).^0.4)\n",
    "hold off\n",
    "xlim([-5,100])\n",
    "ylim([0,0.15])"
   ]
  },
  {
   "cell_type": "code",
   "execution_count": 28,
   "id": "620f66b5-7a21-4ecf-9b6f-dbe4ef61b924",
   "metadata": {},
   "outputs": [],
   "source": [
    "oricoeff_1000_13 = indep_bbscalar_1000_13.*r.^-1.*(r-M).^1;"
   ]
  },
  {
   "cell_type": "markdown",
   "id": "2bbbdc9a-85e4-42c0-be5a-4b15da86b821",
   "metadata": {},
   "source": [
    "## At time = 1200"
   ]
  },
  {
   "cell_type": "code",
   "execution_count": 29,
   "id": "b14bbd6f-b0f1-419c-879a-5e0ef54c0de2",
   "metadata": {},
   "outputs": [],
   "source": [
    "addpath('phd_work/projects/non-axisymmetric-hair/new_data/loc13/SpaceDAT')\n",
    "\n",
    "Psi0_gpu1 = load('Psi0_101200.dat'); %-- data at fixed r*\n",
    "Psi0_gpu2 = load('Psi0_201200.dat');\n",
    "Psi0_gpu3 = load('Psi0_301200.dat');\n",
    "Psi0_gpu4 = load('Psi0_401200.dat');\n",
    "\n",
    "Psi4_gpu1 = load('Psi4_101200.dat');\n",
    "Psi4_gpu2 = load('Psi4_201200.dat');\n",
    "Psi4_gpu3 = load('Psi4_301200.dat');\n",
    "Psi4_gpu4 = load('Psi4_401200.dat');\n",
    "\n",
    "rho_infield = cat(1,Psi0_gpu1(:,1),Psi0_gpu2(:,1),Psi0_gpu3(:,1),Psi0_gpu4(:,1));\n",
    "real_infield = cat(1,Psi0_gpu1(:,2),Psi0_gpu2(:,2),Psi0_gpu3(:,2),Psi0_gpu4(:,2));\n",
    "imag_infield = cat(1,Psi0_gpu1(:,3),Psi0_gpu2(:,3),Psi0_gpu3(:,3),Psi0_gpu4(:,3));\n",
    "\n",
    "rho_outfield = cat(1,Psi4_gpu1(:,1),Psi4_gpu2(:,1),Psi4_gpu3(:,1),Psi4_gpu4(:,1));\n",
    "real_outfield = cat(1,Psi4_gpu1(:,2),Psi4_gpu2(:,2),Psi4_gpu3(:,2),Psi4_gpu4(:,2));\n",
    "imag_outfield = cat(1,Psi4_gpu1(:,3),Psi4_gpu2(:,3),Psi4_gpu3(:,3),Psi4_gpu4(:,3));\n",
    "\n",
    "rmpath('phd_work/projects/non-axisymmetric-hair/new_data/loc13/SpaceDAT')"
   ]
  },
  {
   "cell_type": "code",
   "execution_count": 31,
   "id": "19b9f059-7a64-4b51-95ac-9d7d446e8841",
   "metadata": {},
   "outputs": [],
   "source": [
    "M = 1;\n",
    "S = 19;\n",
    "time = 1200;\n",
    "rho_infield(end);\n",
    "r = rho_infield./(1 - rho_infield/S);\n",
    "r(1)-M;\n",
    "rho_infield(end-50:end);"
   ]
  },
  {
   "cell_type": "code",
   "execution_count": 32,
   "id": "aa95959a-b01f-4487-b9dc-6723bc0e69f7",
   "metadata": {},
   "outputs": [],
   "source": [
    "Psi0 = real_infield + 1i.*imag_infield;\n",
    "Psi4 = real_outfield + 1i.*imag_outfield;\n",
    "\n",
    "bbscalar = Psi0.*Psi4;\n",
    "indep_bbscalar_1200_13 = abs(bbscalar).*time.^2; % time-independent bbscalar"
   ]
  },
  {
   "cell_type": "code",
   "execution_count": 9,
   "id": "fcc8f798-d1e0-4d11-a06c-d4f67c422013",
   "metadata": {
    "tags": []
   },
   "outputs": [
    {
     "data": {
      "image/png": "[encoded data removed]"
     },
     "execution_count": 9,
     "metadata": {},
     "output_type": "execute_result"
    }
   ],
   "source": [
    "plot(r,indep_bbscalar_1200_13.*r.^-1.*(r-M).^1)\n",
    "hold on \n",
    "plot(r,indep_bbscalar_1200_13.*r.^(-1.2).*(r-M).^1)\n",
    "plot(r,indep_bbscalar_1200_13.*r.^(-1.4).*(r-M).^1)\n",
    "plot(r,indep_bbscalar_1200_13.*r.^(-1.6).*(r-M).^1)\n",
    "plot(r,indep_bbscalar_1200_13.*r.^(-0.8).*(r-M).^1)\n",
    "plot(r,indep_bbscalar_1200_13.*r.^(-0.6).*(r-M).^1)\n",
    "plot(r,indep_bbscalar_1200_13.*r.^(-0.4).*(r-M).^1)\n",
    "hold off\n",
    "xlim([-10,100])\n",
    "ylim([0,0.15])"
   ]
  },
  {
   "cell_type": "code",
   "execution_count": 10,
   "id": "a97e992e-4d86-43e0-bc96-beae112ce693",
   "metadata": {
    "collapsed": true,
    "jupyter": {
     "outputs_hidden": true,
     "source_hidden": true
    },
    "tags": []
   },
   "outputs": [
    {
     "data": {
      "image/png": "[encoded data removed]"
     },
     "execution_count": 10,
     "metadata": {},
     "output_type": "execute_result"
    }
   ],
   "source": [
    "plot(r,indep_bbscalar_1200_13.*r.^-1.*(r-M).^1)\n",
    "hold on \n",
    "plot(r,indep_bbscalar_1200_13.*r.^-1.*(r-M).^1.2)\n",
    "plot(r,indep_bbscalar_1200_13.*r.^-1.*(r-M).^1.4)\n",
    "plot(r,indep_bbscalar_1200_13.*r.^-1.*(r-M).^1.6)\n",
    "plot(r,indep_bbscalar_1200_13.*r.^-1.*(r-M).^0.8)\n",
    "plot(r,indep_bbscalar_1200_13.*r.^-1.*(r-M).^0.6)\n",
    "plot(r,indep_bbscalar_1200_13.*r.^-1.*(r-M).^0.4)\n",
    "hold off\n",
    "xlim([-5,10])\n",
    "ylim([0,0.15])"
   ]
  },
  {
   "cell_type": "code",
   "execution_count": 33,
   "id": "646c0b2d-f8a2-4a85-8b0e-3f048ed381ea",
   "metadata": {},
   "outputs": [],
   "source": [
    "oricoeff_1200_13 = indep_bbscalar_1200_13.*r.^-1.*(r-M).^1;"
   ]
  },
  {
   "cell_type": "markdown",
   "id": "fbef0425-14a9-4ecb-9546-64a2d2579a68",
   "metadata": {},
   "source": [
    "## At time = 1400"
   ]
  },
  {
   "cell_type": "code",
   "execution_count": 34,
   "id": "1788c343-c118-47a6-8e3e-956601f341a8",
   "metadata": {},
   "outputs": [],
   "source": [
    "addpath('phd_work/projects/non-axisymmetric-hair/new_data/loc13/SpaceDAT')\n",
    "\n",
    "Psi0_gpu1 = load('Psi0_101400.dat'); %-- data at fixed r*\n",
    "Psi0_gpu2 = load('Psi0_201400.dat');\n",
    "Psi0_gpu3 = load('Psi0_301400.dat');\n",
    "Psi0_gpu4 = load('Psi0_401400.dat');\n",
    "\n",
    "Psi4_gpu1 = load('Psi4_101400.dat');\n",
    "Psi4_gpu2 = load('Psi4_201400.dat');\n",
    "Psi4_gpu3 = load('Psi4_301400.dat');\n",
    "Psi4_gpu4 = load('Psi4_401400.dat');\n",
    "\n",
    "rho_infield = cat(1,Psi0_gpu1(:,1),Psi0_gpu2(:,1),Psi0_gpu3(:,1),Psi0_gpu4(:,1));\n",
    "real_infield = cat(1,Psi0_gpu1(:,2),Psi0_gpu2(:,2),Psi0_gpu3(:,2),Psi0_gpu4(:,2));\n",
    "imag_infield = cat(1,Psi0_gpu1(:,3),Psi0_gpu2(:,3),Psi0_gpu3(:,3),Psi0_gpu4(:,3));\n",
    "\n",
    "rho_outfield = cat(1,Psi4_gpu1(:,1),Psi4_gpu2(:,1),Psi4_gpu3(:,1),Psi4_gpu4(:,1));\n",
    "real_outfield = cat(1,Psi4_gpu1(:,2),Psi4_gpu2(:,2),Psi4_gpu3(:,2),Psi4_gpu4(:,2));\n",
    "imag_outfield = cat(1,Psi4_gpu1(:,3),Psi4_gpu2(:,3),Psi4_gpu3(:,3),Psi4_gpu4(:,3));\n",
    "\n",
    "rmpath('phd_work/projects/non-axisymmetric-hair/new_data/loc13/SpaceDAT')"
   ]
  },
  {
   "cell_type": "code",
   "execution_count": 35,
   "id": "5a2920c8-d033-47c4-b1d7-459e45ea4ec3",
   "metadata": {},
   "outputs": [],
   "source": [
    "M = 1;\n",
    "S = 19;\n",
    "time = 1400;\n",
    "rho_infield(end);\n",
    "r = rho_infield./(1 - rho_infield/S);\n",
    "r(1)-M;\n",
    "rho_infield(end-50:end);"
   ]
  },
  {
   "cell_type": "code",
   "execution_count": 36,
   "id": "78198405-1931-4f7e-83dc-ccaa78f143f7",
   "metadata": {},
   "outputs": [],
   "source": [
    "Psi0 = real_infield + 1i.*imag_infield;\n",
    "Psi4 = real_outfield + 1i.*imag_outfield;\n",
    "\n",
    "bbscalar = Psi0.*Psi4;\n",
    "indep_bbscalar_1400_13 = abs(bbscalar).*time.^2; % time-independent bbscalar\n"
   ]
  },
  {
   "cell_type": "code",
   "execution_count": 14,
   "id": "db5a47db-f534-442b-8586-144d1bd57113",
   "metadata": {
    "tags": []
   },
   "outputs": [
    {
     "data": {
      "image/png": "[encoded data removed]"
     },
     "execution_count": 14,
     "metadata": {},
     "output_type": "execute_result"
    }
   ],
   "source": [
    "plot(r,indep_bbscalar_1400_13.*r.^-1.*(r-M).^1)\n",
    "hold on \n",
    "plot(r,indep_bbscalar_1400_13.*r.^(-1.2).*(r-M).^1)\n",
    "plot(r,indep_bbscalar_1400_13.*r.^(-1.4).*(r-M).^1)\n",
    "plot(r,indep_bbscalar_1400_13.*r.^(-1.6).*(r-M).^1)\n",
    "plot(r,indep_bbscalar_1400_13.*r.^(-0.8).*(r-M).^1)\n",
    "plot(r,indep_bbscalar_1400_13.*r.^(-0.6).*(r-M).^1)\n",
    "plot(r,indep_bbscalar_1400_13.*r.^(-0.4).*(r-M).^1)\n",
    "hold off\n",
    "xlim([-10,100])\n",
    "ylim([0,0.15])"
   ]
  },
  {
   "cell_type": "code",
   "execution_count": 15,
   "id": "3f28b71d-edc5-4e57-b457-7dd11bb2e245",
   "metadata": {
    "collapsed": true,
    "jupyter": {
     "outputs_hidden": true
    },
    "tags": []
   },
   "outputs": [
    {
     "data": {
      "image/png": "[encoded data removed]"
     },
     "execution_count": 15,
     "metadata": {},
     "output_type": "execute_result"
    }
   ],
   "source": [
    "plot(r,indep_bbscalar_1400_13.*r.^-1.*(r-M).^1)\n",
    "hold on \n",
    "plot(r,indep_bbscalar_1400_13.*r.^-1.*(r-M).^1.2)\n",
    "plot(r,indep_bbscalar_1400_13.*r.^-1.*(r-M).^1.4)\n",
    "plot(r,indep_bbscalar_1400_13.*r.^-1.*(r-M).^1.6)\n",
    "plot(r,indep_bbscalar_1400_13.*r.^-1.*(r-M).^0.8)\n",
    "plot(r,indep_bbscalar_1400_13.*r.^-1.*(r-M).^0.6)\n",
    "plot(r,indep_bbscalar_1400_13.*r.^-1.*(r-M).^0.4)\n",
    "hold off\n",
    "xlim([-5,10])\n",
    "ylim([0,0.15])"
   ]
  },
  {
   "cell_type": "code",
   "execution_count": 37,
   "id": "16e5a045-f9e6-4340-af09-e121bbceb28c",
   "metadata": {},
   "outputs": [],
   "source": [
    "oricoeff_1400_13 = indep_bbscalar_1400_13.*r.^-1.*(r-M).^1;"
   ]
  },
  {
   "cell_type": "code",
   "execution_count": 16,
   "id": "a5d8eacd-663c-4403-8692-ba07f80e9c36",
   "metadata": {},
   "outputs": [
    {
     "data": {
      "image/png": "[encoded data removed]"
     },
     "execution_count": 16,
     "metadata": {},
     "output_type": "execute_result"
    }
   ],
   "source": [
    "% Plotting all indep_bbscalars for Gaussian center 1.3 wrt r for times 1000,1200,1400\n",
    "plot(r,indep_bbscalar_1000_13.*r.^-1.*(r-M).^1)\n",
    "hold on \n",
    "plot(r,indep_bbscalar_1200_13.*r.^-1.*(r-M).^1)\n",
    "plot(r,indep_bbscalar_1400_13.*r.^-1.*(r-M).^1)\n",
    "hold off\n",
    "xlim([-5,1000])\n",
    "ylim([0,0.15])"
   ]
  },
  {
   "cell_type": "code",
   "execution_count": 38,
   "id": "2089c90c-c338-4867-92d7-9b1c387bf91a",
   "metadata": {},
   "outputs": [
    {
     "data": {
      "image/png": "[encoded data removed]"
     },
     "execution_count": 38,
     "metadata": {},
     "output_type": "execute_result"
    }
   ],
   "source": [
    "plot(r,oricoeff_1000_11,':')\n",
    "hold on\n",
    "plot(r,oricoeff_1200_11,':')\n",
    "plot(r,oricoeff_1400_11,':')\n",
    "\n",
    "plot(r,oricoeff_1000_12,'--')\n",
    "plot(r,oricoeff_1200_12,'--')\n",
    "plot(r,oricoeff_1400_12,'--')\n",
    "\n",
    "plot(r,oricoeff_1000_13,'.-')\n",
    "plot(r,oricoeff_1200_13,'.-')\n",
    "plot(r,oricoeff_1400_13,'.-')\n",
    "hold off\n",
    "xlim([-100,1000])"
   ]
  },
  {
   "cell_type": "code",
   "execution_count": 78,
   "id": "4450e289-784c-49c7-8ff7-3901f067b4c5",
   "metadata": {},
   "outputs": [
    {
     "name": "stdout",
     "output_type": "stream",
     "text": [
      "  Name                           Size            Bytes  Class     Attributes\n",
      "\n",
      "  M                              1x1                 8  double              \n",
      "  Psi0                        1312x1             20992  double    complex   \n",
      "  Psi0_gpu1                    328x3              7872  double              \n",
      "  Psi0_gpu2                    328x3              7872  double              \n",
      "  Psi0_gpu3                    328x3              7872  double              \n",
      "  Psi0_gpu4                    328x3              7872  double              \n",
      "  Psi4                        1312x1             20992  double    complex   \n",
      "  Psi4_gpu1                    328x3              7872  double              \n",
      "  Psi4_gpu2                    328x3              7872  double              \n",
      "  Psi4_gpu3                    328x3              7872  double              \n",
      "  Psi4_gpu4                    328x3              7872  double              \n",
      "  S                              1x1                 8  double              \n",
      "  ans                           51x1               408  double              \n",
      "  bbscalar                    1312x1             20992  double    complex   \n",
      "  imag_infield                1312x1             10496  double              \n",
      "  imag_outfield               1312x1             10496  double              \n",
      "  indep_bbscalar_1000_11      1312x1             10496  double              \n",
      "  indep_bbscalar_1000_12      1312x1             10496  double              \n",
      "  indep_bbscalar_1000_13      1312x1             10496  double              \n",
      "  indep_bbscalar_1200_11      1312x1             10496  double              \n",
      "  indep_bbscalar_1200_12      1312x1             10496  double              \n",
      "  indep_bbscalar_1200_13      1312x1             10496  double              \n",
      "  indep_bbscalar_1400_11      1312x1             10496  double              \n",
      "  indep_bbscalar_1400_12      1312x1             10496  double              \n",
      "  indep_bbscalar_1400_13      1312x1             10496  double              \n",
      "  oricoeff_1000_11            1312x1             10496  double              \n",
      "  oricoeff_1000_12            1312x1             10496  double              \n",
      "  oricoeff_1000_13            1312x1             10496  double              \n",
      "  oricoeff_1200_11            1312x1             10496  double              \n",
      "  oricoeff_1200_12            1312x1             10496  double              \n",
      "  oricoeff_1200_13            1312x1             10496  double              \n",
      "  oricoeff_1400_11            1312x1             10496  double              \n",
      "  oricoeff_1400_12            1312x1             10496  double              \n",
      "  oricoeff_1400_13            1312x1             10496  double              \n",
      "  r                           1312x1             10496  double              \n",
      "  real_infield                1312x1             10496  double              \n",
      "  real_outfield               1312x1             10496  double              \n",
      "  rho_infield                 1312x1             10496  double              \n",
      "  rho_outfield                1312x1             10496  double              \n",
      "  time                           1x1                 8  double              \n",
      "\n"
     ]
    }
   ],
   "source": [
    "whos"
   ]
  },
  {
   "cell_type": "code",
   "execution_count": null,
   "id": "19aa4e4a-bd28-4fd8-8385-0155676ef2ac",
   "metadata": {},
   "outputs": [],
   "source": []
  }
 ],
 "metadata": {
  "kernelspec": {
   "display_name": "MATLAB Kernel [conda env:jupyterlab-matlab] *",
   "language": "matlab",
   "name": "conda-env-jupyterlab-matlab-jupyter_matlab_kernel"
  },
  "language_info": {
   "file_extension": ".m",
   "mimetype": "text/x-matlab",
   "name": "matlab"
  },
  "toc-showtags": false
 },
 "nbformat": 4,
 "nbformat_minor": 5
}
