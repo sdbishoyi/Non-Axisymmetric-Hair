{
 "cells": [
  {
   "cell_type": "markdown",
   "id": "e84dcf9c-8a71-4552-a672-4a37a701dd45",
   "metadata": {},
   "source": [
    "# Non-Axisymmetric Gravitational Hair"
   ]
  },
  {
   "cell_type": "markdown",
   "id": "163010c8-c32b-456a-a5dd-b8ed8f7b8d61",
   "metadata": {},
   "source": [
    "Relevant reference -- https://arxiv.org/pdf/1709.10155.pdf  \n",
    "\n",
    "Q) What is Ori-coefficent, Beetle-Burko scalar. -- answered on **1/3/2024**.\n",
    "\n",
    "$$\\xi_{2,2}(t,r,\\theta) = e r^{-q}(r-M)^{-p}t^{-n}$$"
   ]
  },
  {
   "cell_type": "markdown",
   "id": "9b1ee21e-0967-44ee-8688-2eab3188dc66",
   "metadata": {},
   "source": [
    "# Code Comments"
   ]
  },
  {
   "cell_type": "markdown",
   "id": "55994ae9-1a68-4c4c-8be2-592e04ebdb01",
   "metadata": {},
   "source": [
    "On **1/3/2024**. In **data_analysis.ipynb**\n",
    "\n",
    "I made plots of the bbscalar and the hair with respect to time. I read the paper mentioned above as relevant reference. Gaurav wants the redesigning of plots which should start at $log_{10}(time) = 1$. Basically lot less empty spaces in the plots. Log-Log plots are preferred.\n",
    "\n",
    "On **1/4/2024**.\n",
    "\n",
    "I have to use **4.dat** file because the ori-expansion uses $\\xi_{2,2}$ at fixed value of r outside the horizon. I used that to calculate the exponent of 't' in the Ori-coefficient. Seems like it's -2. The LPI of both $\\psi_{0}$ and $\\psi_{4}$ are very noisy and close to -1. How would you argue that it's not -1.1 instead.\n",
    "\n",
    "Seems like we also have to argue on analytical grounds.\n",
    "\n",
    "On **1/5/2024**.\n",
    "\n",
    "The file **Psi0_TimeDAT_loc13_4** has data only till time $1767.343043$. Similarly, the file **Psi0_TimeDAT_loc14_4** has data only till time $1766.654490$. This is not the case with files containing $\\psi_{4}$ data. They are complete even for these gaussians with center 1.3 and 1.4.\n",
    "\n",
    "On **1/8/2024**.\n",
    "\n",
    "I fit **indep_bbscalar_1900** with $$ ax^{-b}(x-0.999)^{-c} + d$$  \n",
    "\n",
    "The notation while naming the **.dat** files inside the folder of a particular Gaussian e.g **loc11** \n",
    "is as follows\n",
    "\n",
    "**_0** represents no derivative wrt r at the horizon in either $\\Psi_{0}$ or $\\Psi_{4}$.\n",
    "**_1** represents 1 derivative wrt r at the horizon in either $\\Psi_{0}$ or $\\Psi_{4}$.\n",
    "**_4** represents no derivative wrt r at finite radial distance in either $\\Psi_{0}$ or $\\Psi_{4}$.\n",
    "\n",
    "On **1/25/2024**\n",
    "\n",
    "**Satori_GW_Data** contains the data for the Gaussian with center at $1.0$ is what I remember. Try to confirm this still. The name of the files inside the folders named as the location of the Gaussian centers are same. So, when I use the **add path** command, which data does it use?  \n",
    "\n",
    "**Ans from ChatGPT** -- If you have two folders with files of the same name in your path, MATLAB will use the file from the folder that appears first in the path. I can either use the complete path of the file in the load command to get the exact file in any folder or add and remove paths(which I am doing currently).\n",
    "\n",
    "It is clear that the resolution in time has been halved in the new data. Maybe its better to use the old data for figuring out the exponent in 't', and using the new data for calculating the 'r' dependence. Simply using **length(time_infield)** should tell whether it's old or new.\n",
    "\n",
    "I have run the cells of Gaussian with center **1.0** in **finding_n_ipynb** . Other Gaussians will follow suit, hence didn't bother running those.\n",
    "\n",
    "On **1/26/2024**\n",
    "\n",
    "Each **.dat** file contains only a part of the domain in **r**. I would have to concatenate the data after extracting from each file to get the complete domain in **r** . If we choose the times as **1000,1200,1400,1600,1800**. Then for each time I would have 4 files i.e 1 from each GPU. I have to concatenate these to produce the complete **r** domain at each of the above times.\n",
    "\n",
    "This was done and plots of **indep_bbscalar** have been produced for Gaussians with centers 1.1 and 1.3.\n",
    "\n",
    "On **1/30/2024**\n",
    "\n",
    "Gaurav suggested using powers of **(r-M)** instead of powers of **$1 - \\frac{M}{r}$** . Then, we have to plot 2 or 3 ori coefficients on the same plot. Then, we can make the plot of the ori coefficients vs the hair. Gaurav also suggested to do Matlab fits to get the values of p and q. I have chosen Gaussian with center 1.2 to get 1 more ori coefficent. I am using times 1000,1200,1400 to get the ori coefficients.\n",
    "\n",
    "The plots for the ori-coefficients seem to be behaving in accordance with the hair. Something is wrong with the Gaussian with center 1.4, when trying to get the plot for the hair wrt t. Have to figure this out. This has been corrected now as of **1/30/2024** . \n"
   ]
  },
  {
   "cell_type": "markdown",
   "id": "bcb9bd7d-cdfe-4cc5-953e-64ae63f987ae",
   "metadata": {},
   "source": [
    "On **2/1/2024**\n",
    "\n",
    "I am trying to produce **4** figures in total in pdf and place them in the paper. We don't know how they would look on the paper. I have to calculate the ori coefficient for the Gaussian with center $1.4$. After that I can plot the ori coefficients vs the hair. All of this has been completed. Since the plots look fine, the next job is to include data for 1 more time value i.e $T=1600$ in the plots of **oricoeffs vs r**. Also the gaussian with center 1.0 has to be added to all plots.\n",
    "\n",
    "We need to add a convergence plot to the appendix that would be like the **hair vs time** plot with both resolutions in time plotted together (the old data has higher resolution than the new datas). Do we need plots that show the value of p and q? \n",
    "\n",
    "On **2/6/2024**\n",
    "\n",
    "I have the data for $l,m=(3,3)$ now. Aim is to perform diagnostics to check how $\\psi_{0},\\psi_{4}$ and their derivatives vary with time.\n",
    "\n",
    "\\begin{align}\n",
    "(\\psi_{0}\\psi_{4})'' &= \\psi_{0}\\psi_{4}'' + \\psi_{0}''\\psi_{4} + 2\\psi_{0}'\\psi_{4}'\\\\\n",
    "& \\propto v^{1}\\\\\n",
    "\\implies & (\\psi_{0}\\psi_{4})(\\psi_{0}\\psi_{4})'' \\propto constant\n",
    "\\end{align}\n",
    "\n",
    "On **3/11/2024**. In **analysis_l3m3**\n",
    "\n",
    "I have copied higher resolution $\\psi_{0}$ data from gaurav's folder to mine. This is just data containing the 0th,1st,2nd order derivative of $\\psi_{0}$ vs time for gaussian with center 1.1 . The LPI plot for the higher resolution data is not much improved as compared to the older one. \n",
    "\n",
    "What do we do now?. Do we o-go ahead with just $l=m=2$ in the paper? or perform simulations with higher resolutions.\n"
   ]
  },
  {
   "cell_type": "code",
   "execution_count": 1,
   "id": "0c52c443-cc60-4216-b629-e7dfd5adb9fa",
   "metadata": {},
   "outputs": [
    {
     "name": "stderr",
     "output_type": "stream",
     "text": [
      "Error connecting to MATLAB. Check the status of MATLAB by clicking the \"Open MATLAB\" button. Retry after ensuring MATLAB is running successfully"
     ]
    }
   ],
   "source": [
    "help lsline"
   ]
  },
  {
   "cell_type": "code",
   "execution_count": null,
   "id": "ccccc14e-dda0-42b4-bb2f-ecb87b26388f",
   "metadata": {},
   "outputs": [],
   "source": []
  }
 ],
 "metadata": {
  "kernelspec": {
   "display_name": "MATLAB Kernel [conda env:jupyterlab-matlab] *",
   "language": "matlab",
   "name": "conda-env-jupyterlab-matlab-jupyter_matlab_kernel"
  },
  "language_info": {
   "file_extension": ".m",
   "mimetype": "text/x-matlab",
   "name": "matlab"
  }
 },
 "nbformat": 4,
 "nbformat_minor": 5
}
